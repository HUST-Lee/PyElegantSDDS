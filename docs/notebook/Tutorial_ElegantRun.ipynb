{
 "cells": [
  {
   "cell_type": "markdown",
   "metadata": {},
   "source": [
    "# Tutorial Basic"
   ]
  },
  {
   "cell_type": "code",
   "execution_count": 1,
   "metadata": {},
   "outputs": [],
   "source": [
    "import pandas as pd\n",
    "import numpy as np\n",
    "\n",
    "from pyelegantsdds.elegantrun import ElegantRun\n",
    "from pyelegantsdds.sdds import SDDS"
   ]
  },
  {
   "cell_type": "code",
   "execution_count": 2,
   "metadata": {},
   "outputs": [],
   "source": [
    "%load_ext autoreload\n",
    "%autoreload 2"
   ]
  },
  {
   "cell_type": "code",
   "execution_count": 3,
   "metadata": {},
   "outputs": [],
   "source": [
    "# path to singularity container with parallel elegant installed\n",
    "sif = \"/home/mti/gitlab-hzb/containers/bin/pelegant.sif\""
   ]
  },
  {
   "cell_type": "markdown",
   "metadata": {},
   "source": [
    "## Setup example Elegant Lattice"
   ]
  },
  {
   "cell_type": "code",
   "execution_count": 4,
   "metadata": {},
   "outputs": [
    {
     "name": "stdout",
     "output_type": "stream",
     "text": [
      "! FODO cell.\n",
      "\n",
      "QF    : KQUAD, L= 0.342000000000, K1= 0.490000000000, N_KICKS=16.000000000000\n",
      "QD    : KQUAD, L= 0.668000000000, K1=-0.499900000000, N_KICKS=16.000000000000\n",
      "D     : DRIF, L= 3.580500000000\n",
      "W1    : WATCH, filename=\"%s-%03ld.w1\", mode=coordinates\n",
      "\n",
      "FODO  : LINE=(W1,QF,D,QD,D,QF)\n"
     ]
    }
   ],
   "source": [
    "# lattice element definitions\n",
    "elements ={\n",
    "    \"QF\": {\"type\" : \"KQUAD\", \"L\": 0.342, \"K1\":  0.4900, \"N_KICKS\": 16},\n",
    "    \"QD\": {\"type\" : \"KQUAD\", \"L\": 0.668, \"K1\": -0.4999, \"N_KICKS\": 16},\n",
    "    \"D\":  {\"type\" : \"DRIF\" , \"L\": 3.5805},\n",
    "    \"W1\": {\"type\" : \"WATCH\", \"filename\":\"\\\"%s-%03ld.w1\\\"\",\"mode\": \"coordinates\"}\n",
    "}\n",
    "\n",
    "FODOstr = \"! FODO cell.\\n\\n\"\n",
    "stringlist = [\"{:6}: {}\".format(k,\", \".join([\"{}={:15.12f}\".format(kk,vv) \n",
    "                                             if not isinstance(vv,str)\n",
    "                                             else \"{}={}\".format(kk,vv)\n",
    "                                             if kk!=\"type\" else \"{}\".format(vv) for kk,vv in v.items()])) \n",
    "              for k,v in elements.items()]\n",
    "line     = [\"W1\",\"QF\",\"D\",\"QD\",\"D\",\"QF\"]\n",
    "linestr  = \"{:6}: LINE=({})\".format(\"FODO\",\",\".join(line))\n",
    "FODOstr += \"\\n\".join(stringlist)\n",
    "FODOstr += \"\\n\\n\"\n",
    "FODOstr += linestr\n",
    "\n",
    "print(FODOstr)\n",
    "\n",
    "with open(\"FODO.lte\",\"w\") as f:\n",
    "    f.write(FODOstr)\n",
    "    \n",
    "# set lattice for the rest of the tutorial\n",
    "lattice = \"FODO.lte\""
   ]
  },
  {
   "cell_type": "markdown",
   "metadata": {},
   "source": [
    "## ElegantRun class"
   ]
  },
  {
   "cell_type": "markdown",
   "metadata": {},
   "source": [
    "The ElegantRun class is used to setup, control and run the Elegant simulations."
   ]
  },
  {
   "cell_type": "code",
   "execution_count": 5,
   "metadata": {},
   "outputs": [],
   "source": [
    "# load Elegant similator\n",
    "er = ElegantRun(sif,lattice, parallel=True, use_beamline=\"FODO\", energy=1700.00)"
   ]
  },
  {
   "cell_type": "markdown",
   "metadata": {},
   "source": [
    "The *kwargs* argument is used to extract the settings for the simulations and building of the Elegant command file (temp.ele) - minimum required arguments are:\n",
    "* use_beamline\n",
    "* energy\n",
    "\n",
    "Most command have default argument that can be changed by use of the *kwargs*, in this way simple simulations can be set up quickly and in just a few lines of python code. More complicated examples, using *kwargs* can be found in the **advanced tutorials**."
   ]
  },
  {
   "cell_type": "code",
   "execution_count": 6,
   "metadata": {},
   "outputs": [
    {
     "data": {
      "text/plain": [
       "{'use_beamline': 'FODO', 'energy': 1700.0}"
      ]
     },
     "execution_count": 6,
     "metadata": {},
     "output_type": "execute_result"
    }
   ],
   "source": [
    "er.kwargs"
   ]
  },
  {
   "cell_type": "markdown",
   "metadata": {},
   "source": [
    "The *parallel* argument allows to choose between running **serial** or **parallel** Elegant."
   ]
  },
  {
   "cell_type": "code",
   "execution_count": 7,
   "metadata": {},
   "outputs": [
    {
     "data": {
      "text/plain": [
       "True"
      ]
     },
     "execution_count": 7,
     "metadata": {},
     "output_type": "execute_result"
    }
   ],
   "source": [
    "er.parallel"
   ]
  },
  {
   "cell_type": "markdown",
   "metadata": {},
   "source": [
    "The latticefile used in the simulations is saved in the *lattice* property."
   ]
  },
  {
   "cell_type": "code",
   "execution_count": 8,
   "metadata": {},
   "outputs": [
    {
     "data": {
      "text/plain": [
       "'FODO.lte'"
      ]
     },
     "execution_count": 8,
     "metadata": {},
     "output_type": "execute_result"
    }
   ],
   "source": [
    "er.lattice"
   ]
  },
  {
   "cell_type": "markdown",
   "metadata": {},
   "source": [
    "## Internal elegant_command class"
   ]
  },
  {
   "cell_type": "markdown",
   "metadata": {},
   "source": [
    "The ElegantRun class uses internally another class that takes care of organizing the Elegant control file. It allows to customize the control file for the simulations."
   ]
  },
  {
   "cell_type": "code",
   "execution_count": 9,
   "metadata": {},
   "outputs": [
    {
     "data": {
      "text/plain": [
       "([], {})"
      ]
     },
     "execution_count": 9,
     "metadata": {},
     "output_type": "execute_result"
    }
   ],
   "source": [
    "er.commandfile.commandlist, er.commandfile.history"
   ]
  },
  {
   "cell_type": "markdown",
   "metadata": {},
   "source": [
    "This class contains several commands to build a contral file."
   ]
  },
  {
   "cell_type": "code",
   "execution_count": 10,
   "metadata": {},
   "outputs": [],
   "source": [
    "# adds basic run_setup\n",
    "er.add_basic_setup()"
   ]
  },
  {
   "cell_type": "code",
   "execution_count": 11,
   "metadata": {},
   "outputs": [
    {
     "data": {
      "text/plain": [
       "([{'NAME': 'run_setup',\n",
       "   'NOTE': '',\n",
       "   'lattice': 'FODO.lte',\n",
       "   'use_beamline': 'FODO',\n",
       "   'p_central_mev': 1700.0,\n",
       "   'default_order': 1,\n",
       "   'concat_order': 3,\n",
       "   'rootname': 'temp',\n",
       "   'parameters': '%s.params',\n",
       "   'semaphore_file': '%s.done',\n",
       "   'magnets': '%s.mag'}],\n",
       " {})"
      ]
     },
     "execution_count": 11,
     "metadata": {},
     "output_type": "execute_result"
    }
   ],
   "source": [
    "er.commandfile.commandlist, er.commandfile.history"
   ]
  },
  {
   "cell_type": "code",
   "execution_count": 12,
   "metadata": {},
   "outputs": [],
   "source": [
    "# the write command writes the commandlist to an .ele file\n",
    "er.commandfile.write(outputfilename='basic_test.ele')"
   ]
  },
  {
   "cell_type": "code",
   "execution_count": 13,
   "metadata": {},
   "outputs": [
    {
     "name": "stdout",
     "output_type": "stream",
     "text": [
      "&run_setup\n",
      "\tlattice             = FODO.lte,\n",
      "\tuse_beamline        = FODO,\n",
      "\tp_central_mev       = 1700.0,\n",
      "\tdefault_order       = 1,\n",
      "\tconcat_order        = 3,\n",
      "\trootname            = temp,\n",
      "\tparameters          = %s.params,\n",
      "\tsemaphore_file      = %s.done,\n",
      "\tmagnets             = %s.mag,\n",
      "&end\n",
      "\n",
      "\n"
     ]
    }
   ],
   "source": [
    "with open('basic_test.ele','r') as f:\n",
    "    cmd = f.read()\n",
    "    \n",
    "print(cmd)"
   ]
  },
  {
   "cell_type": "code",
   "execution_count": 14,
   "metadata": {},
   "outputs": [
    {
     "name": "stdout",
     "output_type": "stream",
     "text": [
      "No such command run_setup can be found\n"
     ]
    }
   ],
   "source": [
    "# modify a command\n",
    "# mode chooses the command (first, last or index[int])\n",
    "er.commandfile.modifyCommand('run_setup', mode='last', default_order=2)"
   ]
  },
  {
   "cell_type": "code",
   "execution_count": 15,
   "metadata": {},
   "outputs": [
    {
     "data": {
      "text/plain": [
       "([],\n",
       " {0: [{'NAME': 'run_setup',\n",
       "    'NOTE': '',\n",
       "    'lattice': 'FODO.lte',\n",
       "    'use_beamline': 'FODO',\n",
       "    'p_central_mev': 1700.0,\n",
       "    'default_order': 1,\n",
       "    'concat_order': 3,\n",
       "    'rootname': 'temp',\n",
       "    'parameters': '%s.params',\n",
       "    'semaphore_file': '%s.done',\n",
       "    'magnets': '%s.mag'}],\n",
       "  1: [{'NAME': 'run_setup',\n",
       "    'NOTE': '',\n",
       "    'lattice': 'FODO.lte',\n",
       "    'use_beamline': 'FODO',\n",
       "    'p_central_mev': 1700.0,\n",
       "    'default_order': 1,\n",
       "    'concat_order': 3,\n",
       "    'rootname': 'temp',\n",
       "    'parameters': '%s.params',\n",
       "    'semaphore_file': '%s.done',\n",
       "    'magnets': '%s.mag'}]})"
      ]
     },
     "execution_count": 15,
     "metadata": {},
     "output_type": "execute_result"
    }
   ],
   "source": [
    "# notice the change of default_order\n",
    "er.commandfile.commandlist ,er.commandfile.history"
   ]
  },
  {
   "cell_type": "code",
   "execution_count": 16,
   "metadata": {},
   "outputs": [],
   "source": [
    "# clear the command list - updates history\n",
    "er.commandfile.clear()"
   ]
  },
  {
   "cell_type": "code",
   "execution_count": 17,
   "metadata": {},
   "outputs": [
    {
     "data": {
      "text/plain": [
       "([],\n",
       " {0: [{'NAME': 'run_setup',\n",
       "    'NOTE': '',\n",
       "    'lattice': 'FODO.lte',\n",
       "    'use_beamline': 'FODO',\n",
       "    'p_central_mev': 1700.0,\n",
       "    'default_order': 1,\n",
       "    'concat_order': 3,\n",
       "    'rootname': 'temp',\n",
       "    'parameters': '%s.params',\n",
       "    'semaphore_file': '%s.done',\n",
       "    'magnets': '%s.mag'}],\n",
       "  1: [{'NAME': 'run_setup',\n",
       "    'NOTE': '',\n",
       "    'lattice': 'FODO.lte',\n",
       "    'use_beamline': 'FODO',\n",
       "    'p_central_mev': 1700.0,\n",
       "    'default_order': 1,\n",
       "    'concat_order': 3,\n",
       "    'rootname': 'temp',\n",
       "    'parameters': '%s.params',\n",
       "    'semaphore_file': '%s.done',\n",
       "    'magnets': '%s.mag'}]})"
      ]
     },
     "execution_count": 17,
     "metadata": {},
     "output_type": "execute_result"
    }
   ],
   "source": [
    "er.commandfile.commandlist ,er.commandfile.history"
   ]
  },
  {
   "cell_type": "code",
   "execution_count": 18,
   "metadata": {},
   "outputs": [],
   "source": [
    "# one can also repeat a command\n",
    "er.commandfile.addCommand('vary_element',name='*',item='K1', \n",
    "                          initial=1.0, final=1.5, index_number=0,index_limit=2)\n",
    "er.commandfile.repeatCommand('vary_element',mode='last')"
   ]
  },
  {
   "cell_type": "code",
   "execution_count": 19,
   "metadata": {},
   "outputs": [
    {
     "data": {
      "text/plain": [
       "([{'NAME': 'vary_element',\n",
       "   'NOTE': '',\n",
       "   'name': '*',\n",
       "   'item': 'K1',\n",
       "   'initial': 1.0,\n",
       "   'final': 1.5,\n",
       "   'index_number': 0,\n",
       "   'index_limit': 2},\n",
       "  {'NAME': 'vary_element',\n",
       "   'NOTE': '',\n",
       "   'name': '*',\n",
       "   'item': 'K1',\n",
       "   'initial': 1.0,\n",
       "   'final': 1.5,\n",
       "   'index_number': 0,\n",
       "   'index_limit': 2}],\n",
       " {0: [{'NAME': 'run_setup',\n",
       "    'NOTE': '',\n",
       "    'lattice': 'FODO.lte',\n",
       "    'use_beamline': 'FODO',\n",
       "    'p_central_mev': 1700.0,\n",
       "    'default_order': 1,\n",
       "    'concat_order': 3,\n",
       "    'rootname': 'temp',\n",
       "    'parameters': '%s.params',\n",
       "    'semaphore_file': '%s.done',\n",
       "    'magnets': '%s.mag'}],\n",
       "  1: [{'NAME': 'run_setup',\n",
       "    'NOTE': '',\n",
       "    'lattice': 'FODO.lte',\n",
       "    'use_beamline': 'FODO',\n",
       "    'p_central_mev': 1700.0,\n",
       "    'default_order': 1,\n",
       "    'concat_order': 3,\n",
       "    'rootname': 'temp',\n",
       "    'parameters': '%s.params',\n",
       "    'semaphore_file': '%s.done',\n",
       "    'magnets': '%s.mag'}]})"
      ]
     },
     "execution_count": 19,
     "metadata": {},
     "output_type": "execute_result"
    }
   ],
   "source": [
    "er.commandfile.commandlist ,er.commandfile.history"
   ]
  },
  {
   "cell_type": "code",
   "execution_count": 20,
   "metadata": {},
   "outputs": [],
   "source": [
    "# clearing the commandfilelist and history\n",
    "er.commandfile.clear()\n",
    "er.commandfile.clearHistory()"
   ]
  },
  {
   "cell_type": "code",
   "execution_count": 21,
   "metadata": {},
   "outputs": [
    {
     "data": {
      "text/plain": [
       "([], {})"
      ]
     },
     "execution_count": 21,
     "metadata": {},
     "output_type": "execute_result"
    }
   ],
   "source": [
    "er.commandfile.commandlist ,er.commandfile.history"
   ]
  },
  {
   "cell_type": "markdown",
   "metadata": {},
   "source": [
    "## Basic commands"
   ]
  },
  {
   "cell_type": "code",
   "execution_count": 22,
   "metadata": {},
   "outputs": [
    {
     "data": {
      "text/plain": [
       "([{'NAME': 'run_setup',\n",
       "   'NOTE': '',\n",
       "   'lattice': 'FODO.lte',\n",
       "   'use_beamline': 'FODO',\n",
       "   'p_central_mev': 1700.0,\n",
       "   'default_order': 1,\n",
       "   'concat_order': 3,\n",
       "   'rootname': 'temp',\n",
       "   'parameters': '%s.params',\n",
       "   'semaphore_file': '%s.done',\n",
       "   'magnets': '%s.mag'}],\n",
       " {})"
      ]
     },
     "execution_count": 22,
     "metadata": {},
     "output_type": "execute_result"
    }
   ],
   "source": [
    "# should always be used first\n",
    "er.add_basic_setup()\n",
    "er.commandfile.commandlist ,er.commandfile.history"
   ]
  },
  {
   "cell_type": "code",
   "execution_count": 23,
   "metadata": {},
   "outputs": [],
   "source": [
    "er.add_basic_twiss()"
   ]
  },
  {
   "cell_type": "code",
   "execution_count": 24,
   "metadata": {},
   "outputs": [
    {
     "data": {
      "text/plain": [
       "([{'NAME': 'run_setup',\n",
       "   'NOTE': '',\n",
       "   'lattice': 'FODO.lte',\n",
       "   'use_beamline': 'FODO',\n",
       "   'p_central_mev': 1700.0,\n",
       "   'default_order': 1,\n",
       "   'concat_order': 3,\n",
       "   'rootname': 'temp',\n",
       "   'parameters': '%s.params',\n",
       "   'semaphore_file': '%s.done',\n",
       "   'magnets': '%s.mag'},\n",
       "  {'NAME': 'twiss_output',\n",
       "   'NOTE': '',\n",
       "   'filename': '%s.twi',\n",
       "   'matched': 1,\n",
       "   'radiation_integrals': 1}],\n",
       " {})"
      ]
     },
     "execution_count": 24,
     "metadata": {},
     "output_type": "execute_result"
    }
   ],
   "source": [
    "er.commandfile.commandlist ,er.commandfile.history"
   ]
  },
  {
   "cell_type": "code",
   "execution_count": 25,
   "metadata": {},
   "outputs": [
    {
     "data": {
      "text/plain": [
       "([{'NAME': 'run_setup',\n",
       "   'NOTE': '',\n",
       "   'lattice': 'FODO.lte',\n",
       "   'use_beamline': 'FODO',\n",
       "   'p_central_mev': 1700.0,\n",
       "   'default_order': 1,\n",
       "   'concat_order': 3,\n",
       "   'rootname': 'temp',\n",
       "   'parameters': '%s.params',\n",
       "   'semaphore_file': '%s.done',\n",
       "   'magnets': '%s.mag'},\n",
       "  {'NAME': 'twiss_output',\n",
       "   'NOTE': '',\n",
       "   'filename': '%s.twi',\n",
       "   'matched': 1,\n",
       "   'radiation_integrals': 1},\n",
       "  {'NAME': 'vary_element',\n",
       "   'NOTE': '',\n",
       "   'name': '*',\n",
       "   'item': 'L',\n",
       "   'intial': 0.0,\n",
       "   'final': 0.0,\n",
       "   'index_number': 0,\n",
       "   'index_limit': 1}],\n",
       " {})"
      ]
     },
     "execution_count": 25,
     "metadata": {},
     "output_type": "execute_result"
    }
   ],
   "source": [
    "er.add_vary_element()\n",
    "er.commandfile.commandlist ,er.commandfile.history"
   ]
  },
  {
   "cell_type": "code",
   "execution_count": 26,
   "metadata": {},
   "outputs": [],
   "source": [
    "er.add_watch_at_start()"
   ]
  },
  {
   "cell_type": "code",
   "execution_count": 27,
   "metadata": {},
   "outputs": [
    {
     "data": {
      "text/plain": [
       "([{'NAME': 'run_setup',\n",
       "   'NOTE': '',\n",
       "   'lattice': 'FODO.lte',\n",
       "   'use_beamline': 'FODO',\n",
       "   'p_central_mev': 1700.0,\n",
       "   'default_order': 1,\n",
       "   'concat_order': 3,\n",
       "   'rootname': 'temp',\n",
       "   'parameters': '%s.params',\n",
       "   'semaphore_file': '%s.done',\n",
       "   'magnets': '%s.mag'},\n",
       "  {'NAME': 'twiss_output',\n",
       "   'NOTE': '',\n",
       "   'filename': '%s.twi',\n",
       "   'matched': 1,\n",
       "   'radiation_integrals': 1},\n",
       "  {'NAME': 'vary_element',\n",
       "   'NOTE': '',\n",
       "   'name': '*',\n",
       "   'item': 'L',\n",
       "   'intial': 0.0,\n",
       "   'final': 0.0,\n",
       "   'index_number': 0,\n",
       "   'index_limit': 1},\n",
       "  {'NAME': 'insert_elements',\n",
       "   'NOTE': '',\n",
       "   'name': 'W',\n",
       "   's_start': -1,\n",
       "   's_end': -1,\n",
       "   'skip': 1,\n",
       "   'insert_before': 0,\n",
       "   'add_at_end': 0,\n",
       "   'add_at_start': 1,\n",
       "   'element_def': '\"W: WATCH, FILENAME=\\\\\"%s-%03ld.wq\\\\\", mode=\\\\\"coordinates\\\\\"\"'}],\n",
       " {})"
      ]
     },
     "execution_count": 27,
     "metadata": {},
     "output_type": "execute_result"
    }
   ],
   "source": [
    "er.commandfile.commandlist ,er.commandfile.history"
   ]
  },
  {
   "cell_type": "code",
   "execution_count": 28,
   "metadata": {},
   "outputs": [
    {
     "data": {
      "text/plain": [
       "([{'NAME': 'run_setup',\n",
       "   'NOTE': '',\n",
       "   'lattice': 'FODO.lte',\n",
       "   'use_beamline': 'FODO',\n",
       "   'p_central_mev': 1700.0,\n",
       "   'default_order': 1,\n",
       "   'concat_order': 3,\n",
       "   'rootname': 'temp',\n",
       "   'parameters': '%s.params',\n",
       "   'semaphore_file': '%s.done',\n",
       "   'magnets': '%s.mag'},\n",
       "  {'NAME': 'twiss_output',\n",
       "   'NOTE': '',\n",
       "   'filename': '%s.twi',\n",
       "   'matched': 1,\n",
       "   'radiation_integrals': 1},\n",
       "  {'NAME': 'vary_element',\n",
       "   'NOTE': '',\n",
       "   'name': '*',\n",
       "   'item': 'L',\n",
       "   'intial': 0.0,\n",
       "   'final': 0.0,\n",
       "   'index_number': 0,\n",
       "   'index_limit': 1},\n",
       "  {'NAME': 'insert_elements',\n",
       "   'NOTE': '',\n",
       "   'name': 'W',\n",
       "   's_start': -1,\n",
       "   's_end': -1,\n",
       "   'skip': 1,\n",
       "   'insert_before': 0,\n",
       "   'add_at_end': 0,\n",
       "   'add_at_start': 1,\n",
       "   'element_def': '\"W: WATCH, FILENAME=\\\\\"%s-%03ld.wq\\\\\", mode=\\\\\"coordinates\\\\\"\"'},\n",
       "  {'NAME': 'run_control', 'NOTE': ''},\n",
       "  {'NAME': 'bunched_beam', 'NOTE': ''},\n",
       "  {'NAME': 'track', 'NOTE': ''}],\n",
       " {})"
      ]
     },
     "execution_count": 28,
     "metadata": {},
     "output_type": "execute_result"
    }
   ],
   "source": [
    "er.add_basic_controls()\n",
    "er.commandfile.commandlist ,er.commandfile.history"
   ]
  },
  {
   "cell_type": "code",
   "execution_count": 29,
   "metadata": {},
   "outputs": [
    {
     "name": "stdout",
     "output_type": "stream",
     "text": [
      "&run_setup\n",
      "\tlattice             = FODO.lte,\n",
      "\tuse_beamline        = FODO,\n",
      "\tp_central_mev       = 1700.0,\n",
      "\tdefault_order       = 1,\n",
      "\tconcat_order        = 3,\n",
      "\trootname            = temp,\n",
      "\tparameters          = %s.params,\n",
      "\tsemaphore_file      = %s.done,\n",
      "\tmagnets             = %s.mag,\n",
      "&end\n",
      "\n",
      "&twiss_output\n",
      "\tfilename            = %s.twi,\n",
      "\tmatched             = 1,\n",
      "\tradiation_integrals = 1,\n",
      "&end\n",
      "\n",
      "&vary_element\n",
      "\tname                = *,\n",
      "\titem                = L,\n",
      "\tintial              = 0.0,\n",
      "\tfinal               = 0.0,\n",
      "\tindex_number        = 0,\n",
      "\tindex_limit         = 1,\n",
      "&end\n",
      "\n",
      "&insert_elements\n",
      "\tname                = W,\n",
      "\ts_start             = -1,\n",
      "\ts_end               = -1,\n",
      "\tskip                = 1,\n",
      "\tinsert_before       = 0,\n",
      "\tadd_at_end          = 0,\n",
      "\tadd_at_start        = 1,\n",
      "\telement_def         = \"W: WATCH, FILENAME=\\\"%s-%03ld.wq\\\", mode=\\\"coordinates\\\"\",\n",
      "&end\n",
      "\n",
      "&run_control\n",
      "&end\n",
      "\n",
      "&bunched_beam\n",
      "&end\n",
      "\n",
      "&track\n",
      "&end\n",
      "\n",
      "\n"
     ]
    }
   ],
   "source": [
    "# as example write to ele file and print \n",
    "er.commandfile.write('basic.ele')\n",
    "\n",
    "with open('basic.ele', 'r') as f:\n",
    "    cmd = f.read()\n",
    "    \n",
    "print(cmd)"
   ]
  },
  {
   "cell_type": "code",
   "execution_count": 30,
   "metadata": {},
   "outputs": [],
   "source": [
    "er.clearAll()"
   ]
  },
  {
   "cell_type": "code",
   "execution_count": 31,
   "metadata": {},
   "outputs": [
    {
     "data": {
      "text/plain": [
       "[{'NAME': 'insert_elements',\n",
       "  'NOTE': '',\n",
       "  'type': 'KQUAD',\n",
       "  's_start': -1,\n",
       "  's_end': -1,\n",
       "  'skip': 1,\n",
       "  'insert_before': 1,\n",
       "  'add_at_end': 0,\n",
       "  'add_at_start': 0,\n",
       "  'element_def': '\"WQ: WATCH, FILENAME=\\\\\"%s-%03ld.wq\\\\\", mode=\\\\\"coordinates\\\\\"\"'}]"
      ]
     },
     "execution_count": 31,
     "metadata": {},
     "output_type": "execute_result"
    }
   ],
   "source": [
    "er.add_watch(type='KQUAD',insert_before=1, \n",
    "             element_def = '\"WQ: WATCH, FILENAME=\\\\\"%s-%03ld.wq\\\\\", mode=\\\\\"coordinates\\\\\"\"')\n",
    "er.commandfile.commandlist"
   ]
  },
  {
   "cell_type": "code",
   "execution_count": 32,
   "metadata": {},
   "outputs": [],
   "source": [
    "er.clearAll()"
   ]
  },
  {
   "cell_type": "markdown",
   "metadata": {},
   "source": [
    "Some variations of the basic commands exist and will be shown in more detail in the **advanced** tutorial."
   ]
  },
  {
   "cell_type": "code",
   "execution_count": 33,
   "metadata": {},
   "outputs": [
    {
     "name": "stdout",
     "output_type": "stream",
     "text": [
      "External filename missing.\n"
     ]
    },
    {
     "data": {
      "text/plain": [
       "[]"
      ]
     },
     "execution_count": 33,
     "metadata": {},
     "output_type": "execute_result"
    }
   ],
   "source": [
    "er.add_vary_element_from_file()\n",
    "er.commandfile.commandlist"
   ]
  },
  {
   "cell_type": "code",
   "execution_count": 34,
   "metadata": {},
   "outputs": [
    {
     "data": {
      "text/plain": [
       "[{'NAME': 'vary_element',\n",
       "  'NOTE': '',\n",
       "  'name': '*',\n",
       "  'item': 'L',\n",
       "  'index_number': 0,\n",
       "  'index_limit': 1,\n",
       "  'enumeration_file': 'scan.sdds',\n",
       "  'enumeration_column': None}]"
      ]
     },
     "execution_count": 34,
     "metadata": {},
     "output_type": "execute_result"
    }
   ],
   "source": [
    "er.add_vary_element_from_file(enumeration_file='scan.sdds')\n",
    "er.commandfile.commandlist"
   ]
  },
  {
   "cell_type": "code",
   "execution_count": 35,
   "metadata": {},
   "outputs": [],
   "source": [
    "er.clearAll()"
   ]
  },
  {
   "cell_type": "markdown",
   "metadata": {},
   "source": [
    "## Template Commands"
   ]
  },
  {
   "cell_type": "markdown",
   "metadata": {},
   "source": [
    "### Twiss"
   ]
  },
  {
   "cell_type": "code",
   "execution_count": 36,
   "metadata": {},
   "outputs": [
    {
     "name": "stdout",
     "output_type": "stream",
     "text": [
      "Nux       :     0.235726\n",
      "Nuy       :     0.234332\n",
      "dNux / dp :    -0.000000\n",
      "dNuy / dp :    -0.000000\n"
     ]
    }
   ],
   "source": [
    "# twiss\n",
    "twidata, twipar = er.findtwiss()\n",
    "\n",
    "# for example\n",
    "print(\"Nux       : {:12.6f}\".format(twipar.nux))\n",
    "print(\"Nuy       : {:12.6f}\".format(twipar.nuy))\n",
    "print(\"dNux / dp : {:12.6f}\".format(twipar['dnux/dp']))\n",
    "print(\"dNuy / dp : {:12.6f}\".format(twipar['dnuy/dp']))"
   ]
  },
  {
   "cell_type": "code",
   "execution_count": 37,
   "metadata": {},
   "outputs": [
    {
     "data": {
      "text/html": [
       "<div>\n",
       "<style scoped>\n",
       "    .dataframe tbody tr th:only-of-type {\n",
       "        vertical-align: middle;\n",
       "    }\n",
       "\n",
       "    .dataframe tbody tr th {\n",
       "        vertical-align: top;\n",
       "    }\n",
       "\n",
       "    .dataframe thead th {\n",
       "        text-align: right;\n",
       "    }\n",
       "</style>\n",
       "<table border=\"1\" class=\"dataframe\">\n",
       "  <thead>\n",
       "    <tr style=\"text-align: right;\">\n",
       "      <th></th>\n",
       "      <th>s</th>\n",
       "      <th>betax</th>\n",
       "      <th>alphax</th>\n",
       "      <th>psix</th>\n",
       "      <th>etax</th>\n",
       "      <th>etaxp</th>\n",
       "      <th>xAperture</th>\n",
       "      <th>betay</th>\n",
       "      <th>alphay</th>\n",
       "      <th>psiy</th>\n",
       "      <th>...</th>\n",
       "      <th>pCentral0</th>\n",
       "      <th>ElementName</th>\n",
       "      <th>ElementOccurence</th>\n",
       "      <th>ElementType</th>\n",
       "      <th>ChamberShape</th>\n",
       "      <th>dI1</th>\n",
       "      <th>dI2</th>\n",
       "      <th>dI3</th>\n",
       "      <th>dI4</th>\n",
       "      <th>dI5</th>\n",
       "    </tr>\n",
       "  </thead>\n",
       "  <tbody>\n",
       "    <tr>\n",
       "      <th>0</th>\n",
       "      <td>0.0000</td>\n",
       "      <td>14.018177</td>\n",
       "      <td>0.000000e+00</td>\n",
       "      <td>0.000000</td>\n",
       "      <td>0.0</td>\n",
       "      <td>0.0</td>\n",
       "      <td>10.0</td>\n",
       "      <td>2.856023</td>\n",
       "      <td>9.761713e-17</td>\n",
       "      <td>0.000000</td>\n",
       "      <td>...</td>\n",
       "      <td>3326.816296</td>\n",
       "      <td>_BEG_</td>\n",
       "      <td>1</td>\n",
       "      <td>MARK</td>\n",
       "      <td>NaN</td>\n",
       "      <td>0.0</td>\n",
       "      <td>0.0</td>\n",
       "      <td>0.0</td>\n",
       "      <td>0.0</td>\n",
       "      <td>0.0</td>\n",
       "    </tr>\n",
       "    <tr>\n",
       "      <th>1</th>\n",
       "      <td>0.0000</td>\n",
       "      <td>14.018177</td>\n",
       "      <td>0.000000e+00</td>\n",
       "      <td>0.000000</td>\n",
       "      <td>0.0</td>\n",
       "      <td>0.0</td>\n",
       "      <td>10.0</td>\n",
       "      <td>2.856023</td>\n",
       "      <td>9.761713e-17</td>\n",
       "      <td>0.000000</td>\n",
       "      <td>...</td>\n",
       "      <td>3326.816296</td>\n",
       "      <td>W1</td>\n",
       "      <td>1</td>\n",
       "      <td>WATCH</td>\n",
       "      <td>?</td>\n",
       "      <td>0.0</td>\n",
       "      <td>0.0</td>\n",
       "      <td>0.0</td>\n",
       "      <td>0.0</td>\n",
       "      <td>0.0</td>\n",
       "    </tr>\n",
       "    <tr>\n",
       "      <th>2</th>\n",
       "      <td>0.3420</td>\n",
       "      <td>13.238180</td>\n",
       "      <td>2.236957e+00</td>\n",
       "      <td>0.024869</td>\n",
       "      <td>0.0</td>\n",
       "      <td>0.0</td>\n",
       "      <td>10.0</td>\n",
       "      <td>3.064602</td>\n",
       "      <td>-6.214851e-01</td>\n",
       "      <td>0.116974</td>\n",
       "      <td>...</td>\n",
       "      <td>3326.816296</td>\n",
       "      <td>QF</td>\n",
       "      <td>1</td>\n",
       "      <td>KQUAD</td>\n",
       "      <td>?</td>\n",
       "      <td>0.0</td>\n",
       "      <td>0.0</td>\n",
       "      <td>0.0</td>\n",
       "      <td>0.0</td>\n",
       "      <td>0.0</td>\n",
       "    </tr>\n",
       "    <tr>\n",
       "      <th>3</th>\n",
       "      <td>3.9225</td>\n",
       "      <td>3.033641</td>\n",
       "      <td>6.130754e-01</td>\n",
       "      <td>0.625301</td>\n",
       "      <td>0.0</td>\n",
       "      <td>0.0</td>\n",
       "      <td>10.0</td>\n",
       "      <td>13.314053</td>\n",
       "      <td>-2.241090e+00</td>\n",
       "      <td>0.712004</td>\n",
       "      <td>...</td>\n",
       "      <td>3326.816296</td>\n",
       "      <td>D</td>\n",
       "      <td>1</td>\n",
       "      <td>DRIF</td>\n",
       "      <td>?</td>\n",
       "      <td>0.0</td>\n",
       "      <td>0.0</td>\n",
       "      <td>0.0</td>\n",
       "      <td>0.0</td>\n",
       "      <td>0.0</td>\n",
       "    </tr>\n",
       "    <tr>\n",
       "      <th>4</th>\n",
       "      <td>4.5905</td>\n",
       "      <td>3.033641</td>\n",
       "      <td>-6.130754e-01</td>\n",
       "      <td>0.855812</td>\n",
       "      <td>0.0</td>\n",
       "      <td>0.0</td>\n",
       "      <td>10.0</td>\n",
       "      <td>13.314053</td>\n",
       "      <td>2.241090e+00</td>\n",
       "      <td>0.760351</td>\n",
       "      <td>...</td>\n",
       "      <td>3326.816296</td>\n",
       "      <td>QD</td>\n",
       "      <td>1</td>\n",
       "      <td>KQUAD</td>\n",
       "      <td>?</td>\n",
       "      <td>0.0</td>\n",
       "      <td>0.0</td>\n",
       "      <td>0.0</td>\n",
       "      <td>0.0</td>\n",
       "      <td>0.0</td>\n",
       "    </tr>\n",
       "    <tr>\n",
       "      <th>5</th>\n",
       "      <td>8.1710</td>\n",
       "      <td>13.238180</td>\n",
       "      <td>-2.236957e+00</td>\n",
       "      <td>1.456244</td>\n",
       "      <td>0.0</td>\n",
       "      <td>0.0</td>\n",
       "      <td>10.0</td>\n",
       "      <td>3.064602</td>\n",
       "      <td>6.214851e-01</td>\n",
       "      <td>1.355380</td>\n",
       "      <td>...</td>\n",
       "      <td>3326.816296</td>\n",
       "      <td>D</td>\n",
       "      <td>2</td>\n",
       "      <td>DRIF</td>\n",
       "      <td>?</td>\n",
       "      <td>0.0</td>\n",
       "      <td>0.0</td>\n",
       "      <td>0.0</td>\n",
       "      <td>0.0</td>\n",
       "      <td>0.0</td>\n",
       "    </tr>\n",
       "    <tr>\n",
       "      <th>6</th>\n",
       "      <td>8.5130</td>\n",
       "      <td>14.018177</td>\n",
       "      <td>1.665335e-16</td>\n",
       "      <td>1.481113</td>\n",
       "      <td>0.0</td>\n",
       "      <td>0.0</td>\n",
       "      <td>10.0</td>\n",
       "      <td>2.856023</td>\n",
       "      <td>2.498002e-16</td>\n",
       "      <td>1.472354</td>\n",
       "      <td>...</td>\n",
       "      <td>3326.816296</td>\n",
       "      <td>QF</td>\n",
       "      <td>2</td>\n",
       "      <td>KQUAD</td>\n",
       "      <td>?</td>\n",
       "      <td>0.0</td>\n",
       "      <td>0.0</td>\n",
       "      <td>0.0</td>\n",
       "      <td>0.0</td>\n",
       "      <td>0.0</td>\n",
       "    </tr>\n",
       "  </tbody>\n",
       "</table>\n",
       "<p>7 rows × 23 columns</p>\n",
       "</div>"
      ],
      "text/plain": [
       "        s      betax        alphax      psix  etax  etaxp  xAperture  \\\n",
       "0  0.0000  14.018177  0.000000e+00  0.000000   0.0    0.0       10.0   \n",
       "1  0.0000  14.018177  0.000000e+00  0.000000   0.0    0.0       10.0   \n",
       "2  0.3420  13.238180  2.236957e+00  0.024869   0.0    0.0       10.0   \n",
       "3  3.9225   3.033641  6.130754e-01  0.625301   0.0    0.0       10.0   \n",
       "4  4.5905   3.033641 -6.130754e-01  0.855812   0.0    0.0       10.0   \n",
       "5  8.1710  13.238180 -2.236957e+00  1.456244   0.0    0.0       10.0   \n",
       "6  8.5130  14.018177  1.665335e-16  1.481113   0.0    0.0       10.0   \n",
       "\n",
       "       betay        alphay      psiy  ...    pCentral0  ElementName  \\\n",
       "0   2.856023  9.761713e-17  0.000000  ...  3326.816296        _BEG_   \n",
       "1   2.856023  9.761713e-17  0.000000  ...  3326.816296           W1   \n",
       "2   3.064602 -6.214851e-01  0.116974  ...  3326.816296           QF   \n",
       "3  13.314053 -2.241090e+00  0.712004  ...  3326.816296            D   \n",
       "4  13.314053  2.241090e+00  0.760351  ...  3326.816296           QD   \n",
       "5   3.064602  6.214851e-01  1.355380  ...  3326.816296            D   \n",
       "6   2.856023  2.498002e-16  1.472354  ...  3326.816296           QF   \n",
       "\n",
       "   ElementOccurence  ElementType ChamberShape  dI1  dI2  dI3  dI4  dI5  \n",
       "0                 1         MARK          NaN  0.0  0.0  0.0  0.0  0.0  \n",
       "1                 1        WATCH            ?  0.0  0.0  0.0  0.0  0.0  \n",
       "2                 1        KQUAD            ?  0.0  0.0  0.0  0.0  0.0  \n",
       "3                 1         DRIF            ?  0.0  0.0  0.0  0.0  0.0  \n",
       "4                 1        KQUAD            ?  0.0  0.0  0.0  0.0  0.0  \n",
       "5                 2         DRIF            ?  0.0  0.0  0.0  0.0  0.0  \n",
       "6                 2        KQUAD            ?  0.0  0.0  0.0  0.0  0.0  \n",
       "\n",
       "[7 rows x 23 columns]"
      ]
     },
     "execution_count": 37,
     "metadata": {},
     "output_type": "execute_result"
    }
   ],
   "source": [
    "# twiss data is returned as dataframe\n",
    "twidata"
   ]
  },
  {
   "cell_type": "code",
   "execution_count": 38,
   "metadata": {},
   "outputs": [
    {
     "data": {
      "text/html": [
       "<div>\n",
       "<style scoped>\n",
       "    .dataframe tbody tr th:only-of-type {\n",
       "        vertical-align: middle;\n",
       "    }\n",
       "\n",
       "    .dataframe tbody tr th {\n",
       "        vertical-align: top;\n",
       "    }\n",
       "\n",
       "    .dataframe thead th {\n",
       "        text-align: right;\n",
       "    }\n",
       "</style>\n",
       "<table border=\"1\" class=\"dataframe\">\n",
       "  <thead>\n",
       "    <tr style=\"text-align: right;\">\n",
       "      <th></th>\n",
       "      <th>ParameterValue</th>\n",
       "    </tr>\n",
       "    <tr>\n",
       "      <th>ParameterName</th>\n",
       "      <th></th>\n",
       "    </tr>\n",
       "  </thead>\n",
       "  <tbody>\n",
       "    <tr>\n",
       "      <th>Step</th>\n",
       "      <td>0.000000</td>\n",
       "    </tr>\n",
       "    <tr>\n",
       "      <th>nux</th>\n",
       "      <td>0.235726</td>\n",
       "    </tr>\n",
       "    <tr>\n",
       "      <th>dnux/dp</th>\n",
       "      <td>-0.000000</td>\n",
       "    </tr>\n",
       "    <tr>\n",
       "      <th>dnux/dp2</th>\n",
       "      <td>0.000000</td>\n",
       "    </tr>\n",
       "    <tr>\n",
       "      <th>dnux/dp3</th>\n",
       "      <td>0.000000</td>\n",
       "    </tr>\n",
       "    <tr>\n",
       "      <th>...</th>\n",
       "      <td>...</td>\n",
       "    </tr>\n",
       "    <tr>\n",
       "      <th>Sdelta0</th>\n",
       "      <td>NaN</td>\n",
       "    </tr>\n",
       "    <tr>\n",
       "      <th>taudelta</th>\n",
       "      <td>NaN</td>\n",
       "    </tr>\n",
       "    <tr>\n",
       "      <th>Jdelta</th>\n",
       "      <td>NaN</td>\n",
       "    </tr>\n",
       "    <tr>\n",
       "      <th>U0</th>\n",
       "      <td>0.000000</td>\n",
       "    </tr>\n",
       "    <tr>\n",
       "      <th>length</th>\n",
       "      <td>8.513000</td>\n",
       "    </tr>\n",
       "  </tbody>\n",
       "</table>\n",
       "<p>76 rows × 1 columns</p>\n",
       "</div>"
      ],
      "text/plain": [
       "               ParameterValue\n",
       "ParameterName                \n",
       "Step                 0.000000\n",
       "nux                  0.235726\n",
       "dnux/dp             -0.000000\n",
       "dnux/dp2             0.000000\n",
       "dnux/dp3             0.000000\n",
       "...                       ...\n",
       "Sdelta0                   NaN\n",
       "taudelta                  NaN\n",
       "Jdelta                    NaN\n",
       "U0                   0.000000\n",
       "length               8.513000\n",
       "\n",
       "[76 rows x 1 columns]"
      ]
     },
     "execution_count": 38,
     "metadata": {},
     "output_type": "execute_result"
    }
   ],
   "source": [
    "# twiss header as series\n",
    "pd.DataFrame(twipar)"
   ]
  },
  {
   "cell_type": "markdown",
   "metadata": {},
   "source": [
    "### Find  matrices"
   ]
  },
  {
   "cell_type": "code",
   "execution_count": 39,
   "metadata": {},
   "outputs": [
    {
     "ename": "AssertionError",
     "evalue": "",
     "output_type": "error",
     "traceback": [
      "\u001b[0;31m----------------------------------------------\u001b[0m",
      "\u001b[0;31mAssertionError\u001b[0mTraceback (most recent call last)",
      "\u001b[0;32m<ipython-input-39-81ce68c0d783>\u001b[0m in \u001b[0;36m<module>\u001b[0;34m\u001b[0m\n\u001b[1;32m      1\u001b[0m \u001b[0mer\u001b[0m \u001b[0;34m=\u001b[0m \u001b[0mElegantRun\u001b[0m\u001b[0;34m(\u001b[0m\u001b[0msif\u001b[0m\u001b[0;34m,\u001b[0m\u001b[0mlattice\u001b[0m\u001b[0;34m,\u001b[0m \u001b[0mparallel\u001b[0m\u001b[0;34m=\u001b[0m\u001b[0;32mTrue\u001b[0m\u001b[0;34m,\u001b[0m \u001b[0muse_beamline\u001b[0m\u001b[0;34m=\u001b[0m\u001b[0;34m\"FODO\"\u001b[0m\u001b[0;34m,\u001b[0m \u001b[0menergy\u001b[0m\u001b[0;34m=\u001b[0m\u001b[0;36m1700.00\u001b[0m\u001b[0;34m)\u001b[0m\u001b[0;34m\u001b[0m\u001b[0;34m\u001b[0m\u001b[0m\n\u001b[0;32m----> 2\u001b[0;31m \u001b[0mtup\u001b[0m \u001b[0;34m=\u001b[0m \u001b[0mer\u001b[0m\u001b[0;34m.\u001b[0m\u001b[0mfind_matrices\u001b[0m\u001b[0;34m(\u001b[0m\u001b[0mSDDS_output_order\u001b[0m\u001b[0;34m=\u001b[0m\u001b[0;36m4\u001b[0m\u001b[0;34m)\u001b[0m\u001b[0;34m\u001b[0m\u001b[0;34m\u001b[0m\u001b[0m\n\u001b[0m",
      "\u001b[0;32m~/github-tomerten/PyElegantSDDS/pyelegantsdds/elegantrun.py\u001b[0m in \u001b[0;36mfind_matrices\u001b[0;34m(self, **kwargs)\u001b[0m\n\u001b[1;32m    508\u001b[0m                                                                                                                                         \u001b[0mU\u001b[0m \u001b[0mmap\u001b[0m \u001b[0mQijkl\u001b[0m \u001b[0;32mas\u001b[0m \u001b[0mkey\u001b[0m\u001b[0;34m\u001b[0m\u001b[0;34m\u001b[0m\u001b[0m\n\u001b[1;32m    509\u001b[0m         \"\"\"\n\u001b[0;32m--> 510\u001b[0;31m         \u001b[0;32massert\u001b[0m \u001b[0mkwargs\u001b[0m\u001b[0;34m.\u001b[0m\u001b[0mget\u001b[0m\u001b[0;34m(\u001b[0m\u001b[0;34m\"SDDS_output_order\"\u001b[0m\u001b[0;34m,\u001b[0m \u001b[0;36m1\u001b[0m\u001b[0;34m)\u001b[0m \u001b[0;34m<\u001b[0m \u001b[0;36m4\u001b[0m\u001b[0;34m\u001b[0m\u001b[0;34m\u001b[0m\u001b[0m\n\u001b[0m\u001b[1;32m    511\u001b[0m \u001b[0;34m\u001b[0m\u001b[0m\n\u001b[1;32m    512\u001b[0m         \u001b[0mself\u001b[0m\u001b[0;34m.\u001b[0m\u001b[0mcommandfile\u001b[0m\u001b[0;34m.\u001b[0m\u001b[0mclear\u001b[0m\u001b[0;34m(\u001b[0m\u001b[0;34m)\u001b[0m\u001b[0;34m\u001b[0m\u001b[0;34m\u001b[0m\u001b[0m\n",
      "\u001b[0;31mAssertionError\u001b[0m: "
     ]
    }
   ],
   "source": [
    "er = ElegantRun(sif,lattice, parallel=True, use_beamline=\"FODO\", energy=1700.00)\n",
    "tup = er.find_matrices(SDDS_output_order=4)"
   ]
  },
  {
   "cell_type": "code",
   "execution_count": null,
   "metadata": {},
   "outputs": [],
   "source": [
    "tup[0]"
   ]
  },
  {
   "cell_type": "code",
   "execution_count": null,
   "metadata": {},
   "outputs": [],
   "source": [
    "tup[1]"
   ]
  },
  {
   "cell_type": "code",
   "execution_count": null,
   "metadata": {},
   "outputs": [],
   "source": [
    "tup[2]"
   ]
  },
  {
   "cell_type": "code",
   "execution_count": null,
   "metadata": {},
   "outputs": [],
   "source": [
    "tup[3]"
   ]
  },
  {
   "cell_type": "code",
   "execution_count": null,
   "metadata": {},
   "outputs": [],
   "source": [
    "tup[4]"
   ]
  },
  {
   "cell_type": "markdown",
   "metadata": {},
   "source": [
    "### Tracking"
   ]
  },
  {
   "cell_type": "markdown",
   "metadata": {},
   "source": [
    "#### Sinlge particle simple"
   ]
  },
  {
   "cell_type": "code",
   "execution_count": null,
   "metadata": {},
   "outputs": [],
   "source": [
    "er = ElegantRun(sif,lattice, parallel=True, use_beamline=\"FODO\", energy=1700.00)\n",
    "er.simple_single_particle_track(n_passes=100, coord=np.array([1e-5,0,0,0,0]))"
   ]
  },
  {
   "cell_type": "code",
   "execution_count": null,
   "metadata": {},
   "outputs": [],
   "source": [
    "# quick plot\n",
    "sddsp = SDDS(sif,\"temp-001.w1\",0)\n",
    "\n",
    "sddsp.sddsplot_base(\n",
    "    columnNames=\"x,xp\",\n",
    "#     file=\"temp-001.w1\",\n",
    "    graph=\"symb,vary=subtype,fill\",\n",
    "    device='png',\n",
    "    output=\"FODO_single_particle.png\"\n",
    ")"
   ]
  },
  {
   "cell_type": "markdown",
   "metadata": {},
   "source": [
    "![title](FODO_single_particle.png)"
   ]
  },
  {
   "cell_type": "code",
   "execution_count": null,
   "metadata": {},
   "outputs": [],
   "source": [
    "er.kwargs.get('energy')"
   ]
  },
  {
   "cell_type": "code",
   "execution_count": null,
   "metadata": {},
   "outputs": [],
   "source": [
    "# generate rectangular coordinate input file - auto\n",
    "# if pcentralmev is not given the energy value in er.kwargs will be used\n",
    "er.generate_sdds_particle_inputfile(grid_type='rectangular', p_min=1e-6, p_max=1e-2, \n",
    "                                    pcentralmev=er.kwargs.get('energy'),\n",
    "                                    NPOINTS=7\n",
    "                                   )"
   ]
  },
  {
   "cell_type": "code",
   "execution_count": null,
   "metadata": {},
   "outputs": [],
   "source": [
    "sddsp = SDDS(sif,\"temp_particles_input.bin\",0)\n",
    "df = sddsp.readParticleData()"
   ]
  },
  {
   "cell_type": "code",
   "execution_count": null,
   "metadata": {},
   "outputs": [],
   "source": [
    "from matplotlib import pyplot as plt\n",
    "%matplotlib notebook\n",
    "fig = plt.figure()\n",
    "ax = fig.add_subplot(111, projection='3d')\n",
    "ax.scatter(df.x,df.xp,df.y,s=1)\n",
    "ax.set_xlabel(r'$x$')\n",
    "ax.set_ylabel(r'$p_x$')\n",
    "ax.set_zlabel(r'$y$')\n",
    "plt.tight_layout()\n",
    "plt.show()"
   ]
  },
  {
   "cell_type": "code",
   "execution_count": null,
   "metadata": {},
   "outputs": [],
   "source": [
    "# track\n",
    "er.track_simple(n_passes=2**6)"
   ]
  },
  {
   "cell_type": "code",
   "execution_count": null,
   "metadata": {},
   "outputs": [],
   "source": [
    "# quick plot\n",
    "sddsp = SDDS(sif,\"temp-001.w1\",0)\n",
    "\n",
    "sddsp.sddsplot_base(\n",
    "    columnNames=\"x,xp\",\n",
    "    file=\"temp-001.w1\",\n",
    "#     scale=\"-1e-4,1e-4,0,0\",\n",
    "    graph=\"symb,vary=subtype,fill\",\n",
    "    order=\"spectral\",\n",
    "    split=\"columnBin=particleID\",\n",
    "    device='png',\n",
    "    output=\"FODO_multi_particle_rectangular2.png\"\n",
    ")"
   ]
  },
  {
   "cell_type": "markdown",
   "metadata": {},
   "source": [
    "![title](FODO_multi_particle_rectangular2.png)"
   ]
  },
  {
   "cell_type": "code",
   "execution_count": null,
   "metadata": {},
   "outputs": [],
   "source": [
    "# generate rectangular coordinate input file - auto\n",
    "# if pcentralmev is not given the energy value in er.kwargs will be used\n",
    "er = ElegantRun(sif,lattice, parallel=True, use_beamline=\"FODO\", energy=1700.00)\n",
    "er.generate_sdds_particle_inputfile(grid_type='spherical',  \n",
    "                                    dim=6,\n",
    "                                    rmin=1e-6,\n",
    "                                    rmax=1e-4,\n",
    "                                    rsteps=5,\n",
    "                                    phisteps=10,\n",
    "                                    half=True, # False gives full spheres\n",
    "                                    pcentralmev=er.kwargs.get('energy'),\n",
    "                                   )"
   ]
  },
  {
   "cell_type": "code",
   "execution_count": null,
   "metadata": {},
   "outputs": [],
   "source": [
    "sddsp = SDDS(sif,\"temp_particles_input.bin\",0)\n",
    "df = sddsp.readParticleData()"
   ]
  },
  {
   "cell_type": "code",
   "execution_count": null,
   "metadata": {
    "scrolled": false
   },
   "outputs": [],
   "source": [
    "from matplotlib import pyplot as plt\n",
    "%matplotlib notebook\n",
    "fig = plt.figure()\n",
    "ax = fig.add_subplot(111, projection='3d')\n",
    "\n",
    "ax.xaxis.labelpad=15\n",
    "ax.yaxis.labelpad=15\n",
    "ax.zaxis.labelpad=15\n",
    "\n",
    "ax.scatter(df.x,df.xp,df.y,s=1)\n",
    "ax.set_xlabel(r'$x$')\n",
    "ax.set_ylabel(r'$p_x$')\n",
    "ax.set_zlabel(r'$y$')\n",
    "plt.tight_layout()\n",
    "plt.show()"
   ]
  },
  {
   "cell_type": "code",
   "execution_count": null,
   "metadata": {},
   "outputs": [],
   "source": [
    "# track\n",
    "er.track_simple(n_passes=2)"
   ]
  },
  {
   "cell_type": "code",
   "execution_count": null,
   "metadata": {},
   "outputs": [],
   "source": [
    "sddsp = SDDS(sif,\"temp-001.w1\",0)\n",
    "df = sddsp.readParticleData()"
   ]
  },
  {
   "cell_type": "code",
   "execution_count": null,
   "metadata": {},
   "outputs": [],
   "source": [
    "from matplotlib import pyplot as plt\n",
    "%matplotlib notebook\n",
    "fig = plt.figure()\n",
    "ax = fig.add_subplot(111, projection='3d')\n",
    "ax.scatter(df.loc[df.Turn==1].x,df.loc[df.Turn==1].xp,df.loc[df.Turn==1].y,s=1)\n",
    "ax.scatter(df.loc[df.Turn==2].x,df.loc[df.Turn==2].xp,df.loc[df.Turn==2].y,s=1,c='red')\n",
    "\n",
    "ax.xaxis.labelpad=15\n",
    "ax.yaxis.labelpad=15\n",
    "ax.zaxis.labelpad=15\n",
    "\n",
    "ax.set_xlabel(r'$x$')\n",
    "ax.set_ylabel(r'$p_x$')\n",
    "ax.set_zlabel(r'$y$')\n",
    "\n",
    "plt.title('Sphere (half) after 1 turn')\n",
    "plt.show()"
   ]
  },
  {
   "cell_type": "markdown",
   "metadata": {},
   "source": [
    "# Advanced"
   ]
  },
  {
   "cell_type": "code",
   "execution_count": null,
   "metadata": {},
   "outputs": [],
   "source": [
    "# Lattice parTrack from Elegant examples\n",
    "latstr = \"\"\"\n",
    "l1a: DRIF, L=0.2\n",
    "l1b: DRIF, L=1.531675\n",
    "lqb: DRIF, L=0.24\n",
    "l2:  DRIF, L=0.08\n",
    "l3:  DRIF, L=1.47\n",
    "l3a: DRIF, L=0.568095770758662\n",
    "l3b: DRIF, L=0.551904229241338\n",
    "\n",
    "! LHK is half the effective length of a kicker\n",
    "lhk:  DRIF, L=0.175\n",
    "l34a: DRIF, L=0.811087\n",
    "l34b: DRIF, L=0.308913\n",
    "\n",
    "l4: DRIF, L=0.08\n",
    "l5: DRIF, L=0.325\n",
    "\n",
    "b1: CSBEND, L=0.8, angle=-0.785398163397, e1=-0.445, e2=-0.445, k2=0.1375, k3=100, hgap=0.0225, fint=0.41, integration_order=4, n_kicks=20, nonlinear=1\n",
    "b2: CSBEND, L=0.8, angle=-0.785398163397, e1=-0.445, e2=-0.445, k2=0.1375, k3=100, hgap=0.0225, fint=0.41, integration_order=4, n_kicks=20, nonlinear=1\n",
    "\n",
    "q1: KQUAD, L=0.23, k1=1.786022448154, n_kicks=10\n",
    "q2: KQUAD, L=0.23, k1=2.295915530046, n_kicks=10\n",
    "q3: KQUAD, l=0.23, k1=0.0\n",
    "q4: KQUAD, l=0.23, k1=2.270174600496, n_kicks=10\n",
    "\n",
    "s1h: SEXT, l=0.1, k2=0.0\n",
    "\n",
    "! vertical chromaticity sextupole plus vertical steering magnet\n",
    "sdh: KSEXT, l=0.1, k2=5.95873739969822, n_kicks=4\n",
    "\n",
    "! horizontal chromaticity sextupole plus horizontal steering magnet\n",
    "sfh: ksextupole, l=0.1, k2=-1.65546424863732, n_kicks=4\n",
    "\n",
    "s1: line=(s1h,s1h)\n",
    "sd: line=(sdh,sdh)\n",
    "sf: line=(sfh,sfh)\n",
    "\n",
    "! markers for the septum center and the center of the RF straight\n",
    "msept: marker\n",
    "mrf:   marker\n",
    "\n",
    "! quadrant 1, less half of SF\n",
    "quadr1: line=(l1a,l1b,s1,l2,q1,lqb,b1,lqb,q2,l3a,lhk,lhk,l3b,sd,l4,q3,lqb,b2,lqb,q4,l5)\n",
    "\n",
    "! quadrant 2, less half of SF\n",
    "quadr2: line=(l1a,l1b,s1,l2,q1,lqb,b1,lqb,q2,l3a,lhk,lhk,l3b,sd,l4,q3,lqb,b2,lqb,q4,l5)\n",
    "\n",
    "! quadrant 3, less half of SF\n",
    "quadr3: line=(l1a,l1b,s1,l2,q1,lqb,b1,lqb,q2,l3,sd,l4,q3,lqb,b2,lqb,q4,l5)\n",
    "\n",
    "! quadrant 4, less half of SF\n",
    "quadr4: line=(l1a,l1b,s1,l2,q1,lqb,b1,lqb,q2,l34a,lhk,lhk,l34b,sd,l4,q3,lqb,b2,lqb,q4,l5)\n",
    "\n",
    "half: line=(quadr2,sf,-quadr2)\n",
    "\n",
    "ap: rcol,x_max=0.04,y_max=0.01\n",
    "par: line=(2*half,ap)\n",
    "return\n",
    "\n",
    "\"\"\".upper()\n",
    "\n",
    "with open('parTrack.lte','w') as f:\n",
    "    f.write(latstr)"
   ]
  },
  {
   "cell_type": "code",
   "execution_count": 40,
   "metadata": {},
   "outputs": [],
   "source": [
    "lattice = 'parTrack.lte'"
   ]
  },
  {
   "cell_type": "code",
   "execution_count": 41,
   "metadata": {},
   "outputs": [],
   "source": [
    "er = ElegantRun(sif,lattice, parallel=True, use_beamline=\"par\", energy=880.00)\n",
    "er.fma(xmin=-0.05,xmax=0.05,ymin=0,ymax=0.02,nx=51,ny=51, n_passes=256)"
   ]
  },
  {
   "cell_type": "code",
   "execution_count": 42,
   "metadata": {},
   "outputs": [],
   "source": [
    "sddsp = SDDS(sif,'temp.fma',0)"
   ]
  },
  {
   "cell_type": "code",
   "execution_count": 43,
   "metadata": {},
   "outputs": [
    {
     "ename": "TypeError",
     "evalue": "pyelegantsdds.sdds.SDDSCommand.getCommand() got multiple values for keyword argument 'file'",
     "output_type": "error",
     "traceback": [
      "\u001b[0;31m----------------------------------------------\u001b[0m",
      "\u001b[0;31mTypeError\u001b[0m    Traceback (most recent call last)",
      "\u001b[0;32m<ipython-input-43-4e84cddcab38>\u001b[0m in \u001b[0;36m<module>\u001b[0;34m\u001b[0m\n\u001b[0;32m----> 1\u001b[0;31m sddsp.sddsplot_fma(\n\u001b[0m\u001b[1;32m      2\u001b[0m     \u001b[0mfile\u001b[0m\u001b[0;34m=\u001b[0m\u001b[0;34m\"temp.fma\"\u001b[0m\u001b[0;34m,\u001b[0m\u001b[0;34m\u001b[0m\u001b[0;34m\u001b[0m\u001b[0m\n\u001b[1;32m      3\u001b[0m     \u001b[0mdevice\u001b[0m\u001b[0;34m=\u001b[0m\u001b[0;34m'png'\u001b[0m\u001b[0;34m,\u001b[0m\u001b[0;34m\u001b[0m\u001b[0;34m\u001b[0m\u001b[0m\n\u001b[1;32m      4\u001b[0m     \u001b[0moutput\u001b[0m\u001b[0;34m=\u001b[0m\u001b[0;34m\"partrack_fma_diffusionrate.png\"\u001b[0m\u001b[0;34m\u001b[0m\u001b[0;34m\u001b[0m\u001b[0m\n\u001b[1;32m      5\u001b[0m )\n",
      "\u001b[0;32m~/github-tomerten/PyElegantSDDS/pyelegantsdds/sdds.py\u001b[0m in \u001b[0;36msddsplot_fma\u001b[0;34m(self, file, col, split, graph, order, **kwargs)\u001b[0m\n\u001b[1;32m    678\u001b[0m             }\n\u001b[1;32m    679\u001b[0m             \u001b[0mnewkwargs\u001b[0m \u001b[0;34m=\u001b[0m \u001b[0;34m{\u001b[0m\u001b[0;34m**\u001b[0m\u001b[0mnewkwargs\u001b[0m\u001b[0;34m,\u001b[0m \u001b[0;34m**\u001b[0m\u001b[0mkwargs\u001b[0m\u001b[0;34m}\u001b[0m\u001b[0;34m\u001b[0m\u001b[0;34m\u001b[0m\u001b[0m\n\u001b[0;32m--> 680\u001b[0;31m             \u001b[0mself\u001b[0m\u001b[0;34m.\u001b[0m\u001b[0msddsplot_base\u001b[0m\u001b[0;34m(\u001b[0m\u001b[0;34m**\u001b[0m\u001b[0mnewkwargs\u001b[0m\u001b[0;34m)\u001b[0m\u001b[0;34m\u001b[0m\u001b[0;34m\u001b[0m\u001b[0m\n\u001b[0m\u001b[1;32m    681\u001b[0m         \u001b[0;32melse\u001b[0m\u001b[0;34m:\u001b[0m\u001b[0;34m\u001b[0m\u001b[0;34m\u001b[0m\u001b[0m\n\u001b[1;32m    682\u001b[0m             \u001b[0mprint\u001b[0m\u001b[0;34m(\u001b[0m\u001b[0;34m\"File missing.\"\u001b[0m\u001b[0;34m)\u001b[0m\u001b[0;34m\u001b[0m\u001b[0;34m\u001b[0m\u001b[0m\n",
      "\u001b[0;32m~/github-tomerten/PyElegantSDDS/pyelegantsdds/sdds.py\u001b[0m in \u001b[0;36msddsplot_base\u001b[0;34m(self, **kwargs)\u001b[0m\n\u001b[1;32m    618\u001b[0m         \"\"\"\n\u001b[1;32m    619\u001b[0m         \u001b[0msddscommand\u001b[0m \u001b[0;34m=\u001b[0m \u001b[0mSDDSCommand\u001b[0m\u001b[0;34m(\u001b[0m\u001b[0mself\u001b[0m\u001b[0;34m.\u001b[0m\u001b[0msif\u001b[0m\u001b[0;34m)\u001b[0m\u001b[0;34m\u001b[0m\u001b[0;34m\u001b[0m\u001b[0m\n\u001b[0;32m--> 620\u001b[0;31m         \u001b[0mcmd\u001b[0m \u001b[0;34m=\u001b[0m \u001b[0msddscommand\u001b[0m\u001b[0;34m.\u001b[0m\u001b[0mgetCommand\u001b[0m\u001b[0;34m(\u001b[0m\u001b[0;34m\"sddsplot\"\u001b[0m\u001b[0;34m,\u001b[0m \u001b[0mfile\u001b[0m\u001b[0;34m=\u001b[0m\u001b[0mself\u001b[0m\u001b[0;34m.\u001b[0m\u001b[0mfilename\u001b[0m\u001b[0;34m,\u001b[0m \u001b[0;34m**\u001b[0m\u001b[0mkwargs\u001b[0m\u001b[0;34m)\u001b[0m\u001b[0;34m\u001b[0m\u001b[0;34m\u001b[0m\u001b[0m\n\u001b[0m\u001b[1;32m    621\u001b[0m \u001b[0;34m\u001b[0m\u001b[0m\n\u001b[1;32m    622\u001b[0m         \u001b[0;31m# add to command history\u001b[0m\u001b[0;34m\u001b[0m\u001b[0;34m\u001b[0m\u001b[0;34m\u001b[0m\u001b[0m\n",
      "\u001b[0;31mTypeError\u001b[0m: pyelegantsdds.sdds.SDDSCommand.getCommand() got multiple values for keyword argument 'file'"
     ]
    }
   ],
   "source": [
    "sddsp.sddsplot_fma(\n",
    "    file=\"temp.fma\",\n",
    "    device='png',\n",
    "    output=\"partrack_fma_diffusionrate.png\"\n",
    ")"
   ]
  },
  {
   "cell_type": "markdown",
   "metadata": {},
   "source": [
    "![title](partrack_fma_diffusionrate.png)"
   ]
  },
  {
   "cell_type": "code",
   "execution_count": null,
   "metadata": {},
   "outputs": [],
   "source": [
    "sddsp.sddsplot_tunediagram(scale=\"0,1,0,1\", device='png',output=\"partrack_tune.png\" )"
   ]
  },
  {
   "cell_type": "markdown",
   "metadata": {},
   "source": [
    "![title](partrack_tune.png)"
   ]
  },
  {
   "cell_type": "code",
   "execution_count": null,
   "metadata": {},
   "outputs": [],
   "source": [
    "er = ElegantRun(sif,lattice, parallel=True, use_beamline=\"par\", energy=880)\n",
    "# parallel only supports n-line\n",
    "er.dynap(xmin=-0.1,xmax=0.1,ymin=0,ymax=0.1,nx=21,ny=21,n_lines=51)"
   ]
  },
  {
   "cell_type": "code",
   "execution_count": null,
   "metadata": {},
   "outputs": [],
   "source": [
    "sddsp = SDDS(sif,\"temp.aper\",0)\n",
    "sddsp.process_scan()"
   ]
  },
  {
   "cell_type": "code",
   "execution_count": null,
   "metadata": {},
   "outputs": [],
   "source": [
    "sddsp.readParticleData()"
   ]
  },
  {
   "cell_type": "code",
   "execution_count": null,
   "metadata": {},
   "outputs": [],
   "source": [
    "sddsp.sddsplot_base(col=\"x,y\",file1=sddsp.filename, device='png',output=\"partrack_aper.png\")"
   ]
  },
  {
   "cell_type": "markdown",
   "metadata": {},
   "source": [
    "![title](partrack_aper.png)"
   ]
  },
  {
   "cell_type": "code",
   "execution_count": null,
   "metadata": {},
   "outputs": [],
   "source": [
    "sddsp.addCommand('sddsplot', col='x,y', file=sddsp.filename,\n",
    "                 graph=\"sym,vary=subtype\",\n",
    "                 order='spectral',split='column=sLost',\n",
    "                )"
   ]
  },
  {
   "cell_type": "code",
   "execution_count": null,
   "metadata": {},
   "outputs": [],
   "source": [
    "er.commandfile.addCommand('run_setup',lattice='parTrack.lte')"
   ]
  },
  {
   "cell_type": "code",
   "execution_count": null,
   "metadata": {},
   "outputs": [],
   "source": [
    "sddsp.getColumnList()"
   ]
  },
  {
   "cell_type": "code",
   "execution_count": null,
   "metadata": {},
   "outputs": [],
   "source": [
    "sddsp.getParameterList()"
   ]
  },
  {
   "cell_type": "code",
   "execution_count": null,
   "metadata": {},
   "outputs": [],
   "source": [
    "sddsp.runCommand()"
   ]
  },
  {
   "cell_type": "code",
   "execution_count": null,
   "metadata": {},
   "outputs": [],
   "source": [
    "sddsp.command_history"
   ]
  },
  {
   "cell_type": "code",
   "execution_count": null,
   "metadata": {},
   "outputs": [],
   "source": [
    " datasetdc = {\n",
    "        \"Q1\" : [1.786022448154-0.01,1.786022448154+0.01],\n",
    "        \"Q2\" : [2.295915530046-0.01,2.295915530046+0.01],\n",
    "     \n",
    " }\n",
    "\n",
    "er = ElegantRun(sif,lattice, parallel=True, use_beamline=\"par\", energy=880.00)\n",
    "er.generate_sdds_particle_inputfile(grid_type='rectangular', p_min=1e-6, p_max=1e-2, \n",
    "                                    pcentralmev=er.kwargs.get('energy'),\n",
    "                                    NPOINTS=3\n",
    "                                   )\n",
    "er.track_vary(varydict=datasetdc,varyitemlist=['k1',\"k1\"],n_passes=2**4, add_watch_start=True, mode='row')"
   ]
  },
  {
   "cell_type": "code",
   "execution_count": null,
   "metadata": {},
   "outputs": [],
   "source": [
    "sdds = SDDS(sif, \"temp-001.wq\",0)\n",
    "sdds.process_scan()"
   ]
  },
  {
   "cell_type": "code",
   "execution_count": null,
   "metadata": {},
   "outputs": [],
   "source": [
    "data = sdds.readParticleData()\n",
    "data\n"
   ]
  },
  {
   "cell_type": "code",
   "execution_count": null,
   "metadata": {},
   "outputs": [],
   "source": [
    "sdds = SDDS(sif, \"temp.sdds\",0)"
   ]
  },
  {
   "cell_type": "code",
   "execution_count": null,
   "metadata": {},
   "outputs": [],
   "source": [
    "sdds.getColumnValues()"
   ]
  },
  {
   "cell_type": "code",
   "execution_count": null,
   "metadata": {},
   "outputs": [],
   "source": [
    "# quick plot\n",
    "sddsp = SDDS(sif,\"temp-001.wq\",0)\n",
    "\n",
    "sddsp.sddsplot_base(\n",
    "    columnNames=\"x,xp\",\n",
    "    file=\"temp-001.w1\",\n",
    "#     scale=\"-1e-4,1e-4,0,0\",\n",
    "    graph=\"symb,vary=subtype,fill\",\n",
    "    order=\"spectral\",\n",
    "    split=\"columnBin=particleID\",\n",
    "#     device='png',\n",
    "#     output=\"FODO_multi_particle_rectangular2.png\"\n",
    ")"
   ]
  },
  {
   "cell_type": "code",
   "execution_count": null,
   "metadata": {},
   "outputs": [],
   "source": [
    "import matplotlib.pyplot as plt\n",
    "\n",
    "for i in [1.0*n for n in range(1,23)]:\n",
    "    for name, group in data.loc[data.step==i].groupby(\"particleID\"):\n",
    "        plt.scatter(group[\"x\"],group[\"xp\"],s=1, label=name)\n",
    "    #plt.xlim(-1,1)\n",
    "    plt.show()"
   ]
  },
  {
   "cell_type": "code",
   "execution_count": null,
   "metadata": {},
   "outputs": [],
   "source": []
  }
 ],
 "metadata": {
  "kernelspec": {
   "display_name": "Python [conda env:pyelegantenv]",
   "language": "python",
   "name": "conda-env-pyelegantenv-py"
  },
  "language_info": {
   "codemirror_mode": {
    "name": "ipython",
    "version": 3
   },
   "file_extension": ".py",
   "mimetype": "text/x-python",
   "name": "python",
   "nbconvert_exporter": "python",
   "pygments_lexer": "ipython3",
   "version": "3.9.4"
  },
  "latex_envs": {
   "LaTeX_envs_menu_present": true,
   "autoclose": false,
   "autocomplete": true,
   "bibliofile": "biblio.bib",
   "cite_by": "apalike",
   "current_citInitial": 1,
   "eqLabelWithNumbers": true,
   "eqNumInitial": 1,
   "hotkeys": {
    "equation": "Ctrl-E",
    "itemize": "Ctrl-I"
   },
   "labels_anchors": false,
   "latex_user_defs": false,
   "report_style_numbering": false,
   "user_envs_cfg": false
  },
  "toc": {
   "base_numbering": 1,
   "nav_menu": {},
   "number_sections": true,
   "sideBar": true,
   "skip_h1_title": false,
   "title_cell": "Table of Contents",
   "title_sidebar": "Contents",
   "toc_cell": false,
   "toc_position": {},
   "toc_section_display": true,
   "toc_window_display": false
  }
 },
 "nbformat": 4,
 "nbformat_minor": 5
}
