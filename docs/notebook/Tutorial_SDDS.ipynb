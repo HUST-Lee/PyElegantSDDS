{
 "cells": [
  {
   "cell_type": "markdown",
   "metadata": {},
   "source": [
    "# Tutorial SDDS"
   ]
  },
  {
   "cell_type": "markdown",
   "metadata": {},
   "source": [
    "This tutorial shows some basic functionality of the SDDS class."
   ]
  },
  {
   "cell_type": "code",
   "execution_count": 1,
   "metadata": {},
   "outputs": [],
   "source": [
    "import pandas as pd\n",
    "import numpy as np\n",
    "import inspect\n",
    "\n",
    "from pyelegantsdds.sdds import SDDS"
   ]
  },
  {
   "cell_type": "code",
   "execution_count": 2,
   "metadata": {},
   "outputs": [],
   "source": [
    "%load_ext autoreload\n",
    "%autoreload 2"
   ]
  },
  {
   "cell_type": "code",
   "execution_count": 3,
   "metadata": {},
   "outputs": [],
   "source": [
    "# Path to Pelegant singularity container\n",
    "sif = \"/home/mti/gitlab-hzb/containers/bin/pelegant.sif\""
   ]
  },
  {
   "cell_type": "code",
   "execution_count": 4,
   "metadata": {},
   "outputs": [],
   "source": [
    "# filetype is either 0 for binary or 1 for ascii\n",
    "sdds = SDDS(sif,'temp.sdds',0)"
   ]
  },
  {
   "cell_type": "markdown",
   "metadata": {},
   "source": [
    "## Overview - Properties"
   ]
  },
  {
   "cell_type": "code",
   "execution_count": 5,
   "metadata": {},
   "outputs": [
    {
     "data": {
      "text/plain": [
       "{'sif': '/home/mti/gitlab-hzb/containers/bin/pelegant.sif',\n",
       " '_filetype': 0,\n",
       " '_filename': 'temp.sdds',\n",
       " 'columnlist': None,\n",
       " 'parameterlist': None,\n",
       " 'commandlist': [],\n",
       " 'command_history': {},\n",
       " '_count_iter': count(0)}"
      ]
     },
     "execution_count": 5,
     "metadata": {},
     "output_type": "execute_result"
    }
   ],
   "source": [
    "sdds.__dict__"
   ]
  },
  {
   "cell_type": "markdown",
   "metadata": {},
   "source": [
    "## Overview - Methods"
   ]
  },
  {
   "cell_type": "code",
   "execution_count": 6,
   "metadata": {},
   "outputs": [
    {
     "data": {
      "text/plain": [
       "['addCommand',\n",
       " 'clearCommandList',\n",
       " 'clearHistory',\n",
       " 'runCommand',\n",
       " 'printHistory',\n",
       " 'reload_from_history',\n",
       " 'rerun_from_history',\n",
       " 'load_raw_data',\n",
       " 'convert',\n",
       " 'getColumnList',\n",
       " 'getColumnValues',\n",
       " 'getParameterList',\n",
       " 'getParameterValues',\n",
       " 'readParticleData',\n",
       " 'process_scan',\n",
       " 'sddsplot_tunediagram',\n",
       " 'sddsplot_base',\n",
       " 'sddsplot',\n",
       " 'sddsplot_fma',\n",
       " 'generate_scan_dataset']"
      ]
     },
     "execution_count": 6,
     "metadata": {},
     "output_type": "execute_result"
    }
   ],
   "source": [
    "from types import FunctionType\n",
    "[x for x, y in SDDS.__dict__.items() if (type(y) == FunctionType) and not x.startswith('_')]"
   ]
  },
  {
   "cell_type": "markdown",
   "metadata": {},
   "source": [
    "## Commands"
   ]
  },
  {
   "cell_type": "markdown",
   "metadata": {},
   "source": [
    "Print the command history."
   ]
  },
  {
   "cell_type": "code",
   "execution_count": 7,
   "metadata": {},
   "outputs": [
    {
     "name": "stdout",
     "output_type": "stream",
     "text": [
      "History is empty.\n"
     ]
    }
   ],
   "source": [
    "sdds.printHistory()"
   ]
  },
  {
   "cell_type": "markdown",
   "metadata": {},
   "source": [
    "Add a command."
   ]
  },
  {
   "cell_type": "code",
   "execution_count": 8,
   "metadata": {},
   "outputs": [],
   "source": [
    "sdds.addCommand('sddsquery',columnList=None,file=sdds.filename)"
   ]
  },
  {
   "cell_type": "markdown",
   "metadata": {},
   "source": [
    "Check if the command has been added."
   ]
  },
  {
   "cell_type": "code",
   "execution_count": 9,
   "metadata": {},
   "outputs": [
    {
     "data": {
      "text/plain": [
       "['/home/mti/gitlab-hzb/containers/bin/pelegant.sif sddsquery -columnList temp.sdds']"
      ]
     },
     "execution_count": 9,
     "metadata": {},
     "output_type": "execute_result"
    }
   ],
   "source": [
    "sdds.commandlist"
   ]
  },
  {
   "cell_type": "markdown",
   "metadata": {},
   "source": [
    "Note that this command has not been added to the history yet, this is to allow the removal of the current commandlist without clogging the history."
   ]
  },
  {
   "cell_type": "code",
   "execution_count": 10,
   "metadata": {},
   "outputs": [
    {
     "name": "stdout",
     "output_type": "stream",
     "text": [
      "History is empty.\n"
     ]
    }
   ],
   "source": [
    "sdds.printHistory()"
   ]
  },
  {
   "cell_type": "markdown",
   "metadata": {},
   "source": [
    "Clear the command list. The option `save` allows to select if the current command list has to be written to the history."
   ]
  },
  {
   "cell_type": "code",
   "execution_count": 11,
   "metadata": {},
   "outputs": [
    {
     "name": "stdout",
     "output_type": "stream",
     "text": [
      "History key: 0\n",
      "\n",
      "---------------\n",
      "\n",
      "/home/mti/gitlab-hzb/containers/bin/pelegant.sif sddsquery -columnList temp.sdds\n",
      "\n",
      "\n",
      "\n"
     ]
    }
   ],
   "source": [
    "sdds.clearCommandList(save=True) \n",
    "sdds.printHistory()"
   ]
  },
  {
   "cell_type": "markdown",
   "metadata": {},
   "source": [
    "The command list has now been cleared."
   ]
  },
  {
   "cell_type": "code",
   "execution_count": 12,
   "metadata": {},
   "outputs": [
    {
     "data": {
      "text/plain": [
       "[]"
      ]
     },
     "execution_count": 12,
     "metadata": {},
     "output_type": "execute_result"
    }
   ],
   "source": [
    "sdds.commandlist"
   ]
  },
  {
   "cell_type": "markdown",
   "metadata": {},
   "source": [
    "One can reload commands from history."
   ]
  },
  {
   "cell_type": "code",
   "execution_count": 13,
   "metadata": {},
   "outputs": [],
   "source": [
    "sdds.reload_from_history(history_idx=0)"
   ]
  },
  {
   "cell_type": "code",
   "execution_count": 14,
   "metadata": {},
   "outputs": [
    {
     "data": {
      "text/plain": [
       "['/home/mti/gitlab-hzb/containers/bin/pelegant.sif sddsquery -columnList temp.sdds']"
      ]
     },
     "execution_count": 14,
     "metadata": {},
     "output_type": "execute_result"
    }
   ],
   "source": [
    "sdds.commandlist"
   ]
  },
  {
   "cell_type": "markdown",
   "metadata": {},
   "source": [
    "There is a related command that allows to directly rerun a command from history."
   ]
  },
  {
   "cell_type": "code",
   "execution_count": 15,
   "metadata": {},
   "outputs": [
    {
     "name": "stdout",
     "output_type": "stream",
     "text": [
      "Executing : \n",
      "/home/mti/gitlab-hzb/containers/bin/pelegant.sif sddsquery -columnList temp.sdds\n"
     ]
    }
   ],
   "source": [
    "sdds.rerun_from_history(history_idx=0)"
   ]
  },
  {
   "cell_type": "markdown",
   "metadata": {},
   "source": [
    "Running all the command in the current command list."
   ]
  },
  {
   "cell_type": "code",
   "execution_count": 16,
   "metadata": {},
   "outputs": [
    {
     "name": "stdout",
     "output_type": "stream",
     "text": [
      "No commands entered - nothing to do!\n"
     ]
    }
   ],
   "source": [
    "sdds.runCommand()"
   ]
  },
  {
   "cell_type": "markdown",
   "metadata": {},
   "source": [
    "After running the command list is cleared and the command list has been written to the history."
   ]
  },
  {
   "cell_type": "code",
   "execution_count": 17,
   "metadata": {},
   "outputs": [
    {
     "name": "stdout",
     "output_type": "stream",
     "text": [
      "History key: 0\n",
      "\n",
      "---------------\n",
      "\n",
      "/home/mti/gitlab-hzb/containers/bin/pelegant.sif sddsquery -columnList temp.sdds\n",
      "\n",
      "\n",
      "\n",
      "History key: 1\n",
      "\n",
      "---------------\n",
      "\n",
      "/home/mti/gitlab-hzb/containers/bin/pelegant.sif sddsquery -columnList temp.sdds\n",
      "\n",
      "\n",
      "\n",
      "History key: 2\n",
      "\n",
      "---------------\n",
      "\n",
      "/home/mti/gitlab-hzb/containers/bin/pelegant.sif sddsquery -columnList temp.sdds\n",
      "\n",
      "\n",
      "\n",
      "History key: 3\n",
      "\n",
      "---------------\n",
      "\n",
      "/home/mti/gitlab-hzb/containers/bin/pelegant.sif sddsquery -columnList temp.sdds\n",
      "\n",
      "\n",
      "\n"
     ]
    }
   ],
   "source": [
    "sdds.printHistory()"
   ]
  },
  {
   "cell_type": "markdown",
   "metadata": {},
   "source": [
    "To load the raw content of the file into the class (raw_content) use:"
   ]
  },
  {
   "cell_type": "code",
   "execution_count": 18,
   "metadata": {},
   "outputs": [
    {
     "data": {
      "text/plain": [
       "b'SDDS1\\n!# little-endian\\n&column name=Q1, type=double,  &end\\n&column name=Q2, type=double,  &end\\n&data mode=binary, &end\\n\\x02\\x00\\x00\\x00V\\x88\\xbc\\x83\\x96j\\xfc?\\x86\\xba\\xd7\\x14\\x8eI\\x02@\\xa8@\\xdb\\x08\\x82\\xbc\\xfc?\\xae\\x16g\\xd7\\x83r\\x02@'"
      ]
     },
     "execution_count": 18,
     "metadata": {},
     "output_type": "execute_result"
    }
   ],
   "source": [
    "sdds.load_raw_data()\n",
    "sdds.raw_content"
   ]
  },
  {
   "cell_type": "markdown",
   "metadata": {},
   "source": [
    "The command history can be cleared with:"
   ]
  },
  {
   "cell_type": "code",
   "execution_count": 19,
   "metadata": {},
   "outputs": [],
   "source": [
    "sdds.clearHistory()"
   ]
  },
  {
   "cell_type": "code",
   "execution_count": 20,
   "metadata": {},
   "outputs": [
    {
     "name": "stdout",
     "output_type": "stream",
     "text": [
      "History is empty.\n"
     ]
    }
   ],
   "source": [
    "sdds.printHistory()"
   ]
  },
  {
   "cell_type": "markdown",
   "metadata": {},
   "source": [
    "## Template commands - files and data in files"
   ]
  },
  {
   "cell_type": "markdown",
   "metadata": {},
   "source": [
    "### Generic files"
   ]
  },
  {
   "cell_type": "code",
   "execution_count": 21,
   "metadata": {},
   "outputs": [
    {
     "name": "stdout",
     "output_type": "stream",
     "text": [
      "Warning - auto filename set\n",
      "Changed from temp.sdds to temp.sdds.txt\n",
      "Warning - auto filetype set\n",
      "Changed from 0 to 1\n"
     ]
    }
   ],
   "source": [
    "sdds.convert(outfile=None)"
   ]
  },
  {
   "cell_type": "markdown",
   "metadata": {},
   "source": [
    "Notice that the filename and filetype have changed."
   ]
  },
  {
   "cell_type": "code",
   "execution_count": 22,
   "metadata": {},
   "outputs": [
    {
     "data": {
      "text/plain": [
       "('temp.sdds.txt', 1)"
      ]
     },
     "execution_count": 22,
     "metadata": {},
     "output_type": "execute_result"
    }
   ],
   "source": [
    "sdds.filename, sdds.filetype"
   ]
  },
  {
   "cell_type": "markdown",
   "metadata": {},
   "source": [
    "Get the column names available in the file (auto writes them to the columnlist property)."
   ]
  },
  {
   "cell_type": "code",
   "execution_count": 23,
   "metadata": {},
   "outputs": [
    {
     "data": {
      "text/plain": [
       "(['Q1', 'Q2'], ['Q1', 'Q2'])"
      ]
     },
     "execution_count": 23,
     "metadata": {},
     "output_type": "execute_result"
    }
   ],
   "source": [
    "sdds.getColumnList(), sdds.columnlist"
   ]
  },
  {
   "cell_type": "markdown",
   "metadata": {},
   "source": [
    "Next one can get the column values. The method has a memory_threshold argument to deal with very large datasets. If the data is larger than the threshold the data is written to a file that can be loaded using `dask` in a lazy fashion and the filename is returned. If the dataset is small enough a pandas dataframe is returned."
   ]
  },
  {
   "cell_type": "code",
   "execution_count": 24,
   "metadata": {},
   "outputs": [
    {
     "data": {
      "text/html": [
       "<div>\n",
       "<style scoped>\n",
       "    .dataframe tbody tr th:only-of-type {\n",
       "        vertical-align: middle;\n",
       "    }\n",
       "\n",
       "    .dataframe tbody tr th {\n",
       "        vertical-align: top;\n",
       "    }\n",
       "\n",
       "    .dataframe thead th {\n",
       "        text-align: right;\n",
       "    }\n",
       "</style>\n",
       "<table border=\"1\" class=\"dataframe\">\n",
       "  <thead>\n",
       "    <tr style=\"text-align: right;\">\n",
       "      <th></th>\n",
       "      <th>Q1</th>\n",
       "      <th>Q2</th>\n",
       "    </tr>\n",
       "  </thead>\n",
       "  <tbody>\n",
       "    <tr>\n",
       "      <th>0</th>\n",
       "      <td>1.776022</td>\n",
       "      <td>2.285916</td>\n",
       "    </tr>\n",
       "    <tr>\n",
       "      <th>1</th>\n",
       "      <td>1.796022</td>\n",
       "      <td>2.305916</td>\n",
       "    </tr>\n",
       "  </tbody>\n",
       "</table>\n",
       "</div>"
      ],
      "text/plain": [
       "         Q1        Q2\n",
       "0  1.776022  2.285916\n",
       "1  1.796022  2.305916"
      ]
     },
     "execution_count": 24,
     "metadata": {},
     "output_type": "execute_result"
    }
   ],
   "source": [
    "sdds.getColumnValues()"
   ]
  },
  {
   "cell_type": "markdown",
   "metadata": {},
   "source": [
    "Similar to column data one can get the parameter data."
   ]
  },
  {
   "cell_type": "code",
   "execution_count": 25,
   "metadata": {},
   "outputs": [],
   "source": [
    "sdds = SDDS(sif,'temp.aper',0)"
   ]
  },
  {
   "cell_type": "code",
   "execution_count": 26,
   "metadata": {},
   "outputs": [
    {
     "data": {
      "text/plain": [
       "['Step', 'SVNVersion', 'Area']"
      ]
     },
     "execution_count": 26,
     "metadata": {},
     "output_type": "execute_result"
    }
   ],
   "source": [
    "sdds.getParameterList()"
   ]
  },
  {
   "cell_type": "code",
   "execution_count": 27,
   "metadata": {},
   "outputs": [
    {
     "data": {
      "text/plain": [
       "ParameterName\n",
       "Step    1.00000\n",
       "Area    0.00052\n",
       "Name: ParameterValue, dtype: float64"
      ]
     },
     "execution_count": 27,
     "metadata": {},
     "output_type": "execute_result"
    }
   ],
   "source": [
    "sdds.getParameterValues()"
   ]
  },
  {
   "cell_type": "markdown",
   "metadata": {},
   "source": [
    "### Generating datasets"
   ]
  },
  {
   "cell_type": "markdown",
   "metadata": {},
   "source": [
    "The class includes a method to create a dataset from a dictionary to allow for the generation of input data for using the `vary_element` command in combination with a table of manually created input data."
   ]
  },
  {
   "cell_type": "code",
   "execution_count": 28,
   "metadata": {},
   "outputs": [],
   "source": [
    "datasetdc = {\n",
    "    \"Q1\" : [1.786022448154-0.01,1.786022448154+0.01],\n",
    "    \"Q2\" : [2.295915530046-0.01,2.295915530046+0.01],\n",
    "\n",
    "}\n",
    "\n",
    "sdds = SDDS(sif,'temp.sdds',0)\n",
    "sdds.generate_scan_dataset(datasetdc)"
   ]
  },
  {
   "cell_type": "markdown",
   "metadata": {},
   "source": [
    "Check if the data is in the file."
   ]
  },
  {
   "cell_type": "code",
   "execution_count": 29,
   "metadata": {},
   "outputs": [
    {
     "data": {
      "text/html": [
       "<div>\n",
       "<style scoped>\n",
       "    .dataframe tbody tr th:only-of-type {\n",
       "        vertical-align: middle;\n",
       "    }\n",
       "\n",
       "    .dataframe tbody tr th {\n",
       "        vertical-align: top;\n",
       "    }\n",
       "\n",
       "    .dataframe thead th {\n",
       "        text-align: right;\n",
       "    }\n",
       "</style>\n",
       "<table border=\"1\" class=\"dataframe\">\n",
       "  <thead>\n",
       "    <tr style=\"text-align: right;\">\n",
       "      <th></th>\n",
       "      <th>Q1</th>\n",
       "      <th>Q2</th>\n",
       "    </tr>\n",
       "  </thead>\n",
       "  <tbody>\n",
       "    <tr>\n",
       "      <th>0</th>\n",
       "      <td>1.776022</td>\n",
       "      <td>2.285916</td>\n",
       "    </tr>\n",
       "    <tr>\n",
       "      <th>1</th>\n",
       "      <td>1.796022</td>\n",
       "      <td>2.305916</td>\n",
       "    </tr>\n",
       "  </tbody>\n",
       "</table>\n",
       "</div>"
      ],
      "text/plain": [
       "         Q1        Q2\n",
       "0  1.776022  2.285916\n",
       "1  1.796022  2.305916"
      ]
     },
     "execution_count": 29,
     "metadata": {},
     "output_type": "execute_result"
    }
   ],
   "source": [
    "sdds.getColumnValues()"
   ]
  },
  {
   "cell_type": "markdown",
   "metadata": {},
   "source": [
    "Explicit check of the dataset file."
   ]
  },
  {
   "cell_type": "code",
   "execution_count": 30,
   "metadata": {},
   "outputs": [
    {
     "name": "stdout",
     "output_type": "stream",
     "text": [
      "Warning - auto filename set\n",
      "Changed from temp.sdds to temp.sdds.txt\n",
      "Warning - auto filetype set\n",
      "Changed from 0 to 1\n"
     ]
    }
   ],
   "source": [
    "# convert to ascii to read easily using Python\n",
    "sdds.convert()"
   ]
  },
  {
   "cell_type": "code",
   "execution_count": 31,
   "metadata": {},
   "outputs": [
    {
     "name": "stdout",
     "output_type": "stream",
     "text": [
      "SDDS1\n",
      "&column name=Q1, type=double,  &end\n",
      "&column name=Q2, type=double,  &end\n",
      "&data mode=ascii, &end\n",
      "! page number 1\n",
      "                   2\n",
      " 1.776022448154000e+00  2.285915530046000e+00 \n",
      " 1.796022448154000e+00  2.305915530046000e+00 \n",
      "\n"
     ]
    }
   ],
   "source": [
    "with open(sdds.filename,'r') as f:\n",
    "    dat = f.read()\n",
    "    \n",
    "print(dat)"
   ]
  },
  {
   "cell_type": "markdown",
   "metadata": {},
   "source": [
    "### Particle Tracking data"
   ]
  },
  {
   "cell_type": "markdown",
   "metadata": {},
   "source": [
    "The `readParticleData` method allow to select the processing methods for datasets that are generated using the `vary_element` command and the datasets generated without it. The method uses also the `process_scan` method internally, but this last method can also be used manually for more flexible file manipulation."
   ]
  },
  {
   "cell_type": "code",
   "execution_count": 32,
   "metadata": {},
   "outputs": [
    {
     "name": "stdout",
     "output_type": "stream",
     "text": [
      "Warning - auto filename set\n",
      "Changed from temp-001.w1 to temp-001.w1.txt\n",
      "Warning - auto filetype set\n",
      "Changed from 0 to 1\n"
     ]
    },
    {
     "data": {
      "text/html": [
       "<div>\n",
       "<style scoped>\n",
       "    .dataframe tbody tr th:only-of-type {\n",
       "        vertical-align: middle;\n",
       "    }\n",
       "\n",
       "    .dataframe tbody tr th {\n",
       "        vertical-align: top;\n",
       "    }\n",
       "\n",
       "    .dataframe thead th {\n",
       "        text-align: right;\n",
       "    }\n",
       "</style>\n",
       "<table border=\"1\" class=\"dataframe\">\n",
       "  <thead>\n",
       "    <tr style=\"text-align: right;\">\n",
       "      <th></th>\n",
       "      <th>x</th>\n",
       "      <th>xp</th>\n",
       "      <th>y</th>\n",
       "      <th>yp</th>\n",
       "      <th>t</th>\n",
       "      <th>p</th>\n",
       "      <th>dt</th>\n",
       "      <th>particleID</th>\n",
       "      <th>Turn</th>\n",
       "    </tr>\n",
       "  </thead>\n",
       "  <tbody>\n",
       "    <tr>\n",
       "      <th>0</th>\n",
       "      <td>1.000000e-05</td>\n",
       "      <td>0.000000e+00</td>\n",
       "      <td>0.0</td>\n",
       "      <td>0.0</td>\n",
       "      <td>0.000000e+00</td>\n",
       "      <td>3326.816862</td>\n",
       "      <td>0.000000e+00</td>\n",
       "      <td>1</td>\n",
       "      <td>1</td>\n",
       "    </tr>\n",
       "    <tr>\n",
       "      <th>1</th>\n",
       "      <td>8.955780e-07</td>\n",
       "      <td>-7.105001e-07</td>\n",
       "      <td>0.0</td>\n",
       "      <td>0.0</td>\n",
       "      <td>2.839631e-08</td>\n",
       "      <td>3326.816862</td>\n",
       "      <td>1.723844e-21</td>\n",
       "      <td>1</td>\n",
       "      <td>2</td>\n",
       "    </tr>\n",
       "    <tr>\n",
       "      <th>2</th>\n",
       "      <td>-9.839588e-06</td>\n",
       "      <td>-1.272616e-07</td>\n",
       "      <td>0.0</td>\n",
       "      <td>0.0</td>\n",
       "      <td>5.679263e-08</td>\n",
       "      <td>3326.816862</td>\n",
       "      <td>4.149138e-21</td>\n",
       "      <td>1</td>\n",
       "      <td>3</td>\n",
       "    </tr>\n",
       "    <tr>\n",
       "      <th>3</th>\n",
       "      <td>-2.658002e-06</td>\n",
       "      <td>6.877055e-07</td>\n",
       "      <td>0.0</td>\n",
       "      <td>0.0</td>\n",
       "      <td>8.518894e-08</td>\n",
       "      <td>3326.816862</td>\n",
       "      <td>5.201312e-21</td>\n",
       "      <td>1</td>\n",
       "      <td>4</td>\n",
       "    </tr>\n",
       "    <tr>\n",
       "      <th>4</th>\n",
       "      <td>9.363498e-06</td>\n",
       "      <td>2.504404e-07</td>\n",
       "      <td>0.0</td>\n",
       "      <td>0.0</td>\n",
       "      <td>1.135853e-07</td>\n",
       "      <td>3326.816862</td>\n",
       "      <td>8.218867e-21</td>\n",
       "      <td>1</td>\n",
       "      <td>5</td>\n",
       "    </tr>\n",
       "    <tr>\n",
       "      <th>...</th>\n",
       "      <td>...</td>\n",
       "      <td>...</td>\n",
       "      <td>...</td>\n",
       "      <td>...</td>\n",
       "      <td>...</td>\n",
       "      <td>...</td>\n",
       "      <td>...</td>\n",
       "      <td>...</td>\n",
       "      <td>...</td>\n",
       "    </tr>\n",
       "    <tr>\n",
       "      <th>95</th>\n",
       "      <td>-7.866553e-06</td>\n",
       "      <td>-4.404272e-07</td>\n",
       "      <td>0.0</td>\n",
       "      <td>0.0</td>\n",
       "      <td>2.697650e-06</td>\n",
       "      <td>3326.816862</td>\n",
       "      <td>1.825356e-19</td>\n",
       "      <td>1</td>\n",
       "      <td>96</td>\n",
       "    </tr>\n",
       "    <tr>\n",
       "      <th>96</th>\n",
       "      <td>-6.853626e-06</td>\n",
       "      <td>5.194750e-07</td>\n",
       "      <td>0.0</td>\n",
       "      <td>0.0</td>\n",
       "      <td>2.726046e-06</td>\n",
       "      <td>3326.816862</td>\n",
       "      <td>1.825356e-19</td>\n",
       "      <td>1</td>\n",
       "      <td>97</td>\n",
       "    </tr>\n",
       "    <tr>\n",
       "      <th>97</th>\n",
       "      <td>6.638962e-06</td>\n",
       "      <td>5.334732e-07</td>\n",
       "      <td>0.0</td>\n",
       "      <td>0.0</td>\n",
       "      <td>2.754442e-06</td>\n",
       "      <td>3326.816862</td>\n",
       "      <td>1.859237e-19</td>\n",
       "      <td>1</td>\n",
       "      <td>98</td>\n",
       "    </tr>\n",
       "    <tr>\n",
       "      <th>98</th>\n",
       "      <td>8.042768e-06</td>\n",
       "      <td>-4.239216e-07</td>\n",
       "      <td>0.0</td>\n",
       "      <td>0.0</td>\n",
       "      <td>2.782839e-06</td>\n",
       "      <td>3326.816862</td>\n",
       "      <td>1.863472e-19</td>\n",
       "      <td>1</td>\n",
       "      <td>99</td>\n",
       "    </tr>\n",
       "    <tr>\n",
       "      <th>99</th>\n",
       "      <td>-5.198377e-06</td>\n",
       "      <td>-6.094042e-07</td>\n",
       "      <td>0.0</td>\n",
       "      <td>0.0</td>\n",
       "      <td>2.811235e-06</td>\n",
       "      <td>3326.816862</td>\n",
       "      <td>1.901589e-19</td>\n",
       "      <td>1</td>\n",
       "      <td>100</td>\n",
       "    </tr>\n",
       "  </tbody>\n",
       "</table>\n",
       "<p>100 rows × 9 columns</p>\n",
       "</div>"
      ],
      "text/plain": [
       "               x            xp    y   yp             t            p  \\\n",
       "0   1.000000e-05  0.000000e+00  0.0  0.0  0.000000e+00  3326.816862   \n",
       "1   8.955780e-07 -7.105001e-07  0.0  0.0  2.839631e-08  3326.816862   \n",
       "2  -9.839588e-06 -1.272616e-07  0.0  0.0  5.679263e-08  3326.816862   \n",
       "3  -2.658002e-06  6.877055e-07  0.0  0.0  8.518894e-08  3326.816862   \n",
       "4   9.363498e-06  2.504404e-07  0.0  0.0  1.135853e-07  3326.816862   \n",
       "..           ...           ...  ...  ...           ...          ...   \n",
       "95 -7.866553e-06 -4.404272e-07  0.0  0.0  2.697650e-06  3326.816862   \n",
       "96 -6.853626e-06  5.194750e-07  0.0  0.0  2.726046e-06  3326.816862   \n",
       "97  6.638962e-06  5.334732e-07  0.0  0.0  2.754442e-06  3326.816862   \n",
       "98  8.042768e-06 -4.239216e-07  0.0  0.0  2.782839e-06  3326.816862   \n",
       "99 -5.198377e-06 -6.094042e-07  0.0  0.0  2.811235e-06  3326.816862   \n",
       "\n",
       "              dt  particleID  Turn  \n",
       "0   0.000000e+00           1     1  \n",
       "1   1.723844e-21           1     2  \n",
       "2   4.149138e-21           1     3  \n",
       "3   5.201312e-21           1     4  \n",
       "4   8.218867e-21           1     5  \n",
       "..           ...         ...   ...  \n",
       "95  1.825356e-19           1    96  \n",
       "96  1.825356e-19           1    97  \n",
       "97  1.859237e-19           1    98  \n",
       "98  1.863472e-19           1    99  \n",
       "99  1.901589e-19           1   100  \n",
       "\n",
       "[100 rows x 9 columns]"
      ]
     },
     "execution_count": 32,
     "metadata": {},
     "output_type": "execute_result"
    }
   ],
   "source": [
    "# wihtout vary_element\n",
    "sdds = SDDS(sif,'temp-001.w1',0)\n",
    "sdds.readParticleData()"
   ]
  },
  {
   "cell_type": "code",
   "execution_count": 33,
   "metadata": {},
   "outputs": [
    {
     "name": "stdout",
     "output_type": "stream",
     "text": [
      "Executing : \n",
      "/home/mti/gitlab-hzb/containers/bin/pelegant.sif sddsprocess -define=column,step,Step temp-001.wq temp-001_processed.wq\n",
      "Warning - auto filename set\n",
      "Changed from temp-001.wq to temp-001_processed.wq\n",
      "Warning - auto filename set\n",
      "Changed from temp-001_processed.wq to temp-001_processed.wq.txt\n",
      "Warning - auto filetype set\n",
      "Changed from 0 to 1\n"
     ]
    },
    {
     "data": {
      "text/html": [
       "<div>\n",
       "<style scoped>\n",
       "    .dataframe tbody tr th:only-of-type {\n",
       "        vertical-align: middle;\n",
       "    }\n",
       "\n",
       "    .dataframe tbody tr th {\n",
       "        vertical-align: top;\n",
       "    }\n",
       "\n",
       "    .dataframe thead th {\n",
       "        text-align: right;\n",
       "    }\n",
       "</style>\n",
       "<table border=\"1\" class=\"dataframe\">\n",
       "  <thead>\n",
       "    <tr style=\"text-align: right;\">\n",
       "      <th></th>\n",
       "      <th>x</th>\n",
       "      <th>xp</th>\n",
       "      <th>y</th>\n",
       "      <th>yp</th>\n",
       "      <th>t</th>\n",
       "      <th>p</th>\n",
       "      <th>dt</th>\n",
       "      <th>particleID</th>\n",
       "      <th>step</th>\n",
       "      <th>Turn</th>\n",
       "    </tr>\n",
       "  </thead>\n",
       "  <tbody>\n",
       "    <tr>\n",
       "      <th>0</th>\n",
       "      <td>0.000000</td>\n",
       "      <td>0.000000</td>\n",
       "      <td>0.000000</td>\n",
       "      <td>0.000000</td>\n",
       "      <td>0.000000</td>\n",
       "      <td>1722.116751</td>\n",
       "      <td>0.000000e+00</td>\n",
       "      <td>1</td>\n",
       "      <td>1.0</td>\n",
       "      <td>1</td>\n",
       "    </tr>\n",
       "    <tr>\n",
       "      <th>1</th>\n",
       "      <td>0.000000</td>\n",
       "      <td>0.000000</td>\n",
       "      <td>0.000000</td>\n",
       "      <td>0.000000</td>\n",
       "      <td>0.000050</td>\n",
       "      <td>1722.116751</td>\n",
       "      <td>5.000000e-05</td>\n",
       "      <td>2</td>\n",
       "      <td>1.0</td>\n",
       "      <td>1</td>\n",
       "    </tr>\n",
       "    <tr>\n",
       "      <th>2</th>\n",
       "      <td>0.000000</td>\n",
       "      <td>0.000000</td>\n",
       "      <td>0.000000</td>\n",
       "      <td>0.000000</td>\n",
       "      <td>0.000100</td>\n",
       "      <td>1722.116751</td>\n",
       "      <td>1.000000e-04</td>\n",
       "      <td>3</td>\n",
       "      <td>1.0</td>\n",
       "      <td>1</td>\n",
       "    </tr>\n",
       "    <tr>\n",
       "      <th>3</th>\n",
       "      <td>0.000000</td>\n",
       "      <td>0.000000</td>\n",
       "      <td>0.000000</td>\n",
       "      <td>0.000050</td>\n",
       "      <td>0.000000</td>\n",
       "      <td>1722.116751</td>\n",
       "      <td>0.000000e+00</td>\n",
       "      <td>4</td>\n",
       "      <td>1.0</td>\n",
       "      <td>1</td>\n",
       "    </tr>\n",
       "    <tr>\n",
       "      <th>4</th>\n",
       "      <td>0.000000</td>\n",
       "      <td>0.000000</td>\n",
       "      <td>0.000000</td>\n",
       "      <td>0.000050</td>\n",
       "      <td>0.000050</td>\n",
       "      <td>1722.116751</td>\n",
       "      <td>5.000000e-05</td>\n",
       "      <td>5</td>\n",
       "      <td>1.0</td>\n",
       "      <td>1</td>\n",
       "    </tr>\n",
       "    <tr>\n",
       "      <th>...</th>\n",
       "      <td>...</td>\n",
       "      <td>...</td>\n",
       "      <td>...</td>\n",
       "      <td>...</td>\n",
       "      <td>...</td>\n",
       "      <td>...</td>\n",
       "      <td>...</td>\n",
       "      <td>...</td>\n",
       "      <td>...</td>\n",
       "      <td>...</td>\n",
       "    </tr>\n",
       "    <tr>\n",
       "      <th>7771</th>\n",
       "      <td>-0.000213</td>\n",
       "      <td>-0.000033</td>\n",
       "      <td>0.000214</td>\n",
       "      <td>0.000047</td>\n",
       "      <td>0.000052</td>\n",
       "      <td>1722.116751</td>\n",
       "      <td>5.000000e-05</td>\n",
       "      <td>239</td>\n",
       "      <td>2.0</td>\n",
       "      <td>16</td>\n",
       "    </tr>\n",
       "    <tr>\n",
       "      <th>7772</th>\n",
       "      <td>-0.000213</td>\n",
       "      <td>-0.000033</td>\n",
       "      <td>0.000214</td>\n",
       "      <td>0.000047</td>\n",
       "      <td>0.000102</td>\n",
       "      <td>1722.116751</td>\n",
       "      <td>1.000000e-04</td>\n",
       "      <td>240</td>\n",
       "      <td>2.0</td>\n",
       "      <td>16</td>\n",
       "    </tr>\n",
       "    <tr>\n",
       "      <th>7773</th>\n",
       "      <td>-0.000214</td>\n",
       "      <td>-0.000033</td>\n",
       "      <td>0.000335</td>\n",
       "      <td>0.000095</td>\n",
       "      <td>0.000002</td>\n",
       "      <td>1722.116751</td>\n",
       "      <td>8.013319e-14</td>\n",
       "      <td>241</td>\n",
       "      <td>2.0</td>\n",
       "      <td>16</td>\n",
       "    </tr>\n",
       "    <tr>\n",
       "      <th>7774</th>\n",
       "      <td>-0.000214</td>\n",
       "      <td>-0.000033</td>\n",
       "      <td>0.000335</td>\n",
       "      <td>0.000095</td>\n",
       "      <td>0.000052</td>\n",
       "      <td>1722.116751</td>\n",
       "      <td>5.000000e-05</td>\n",
       "      <td>242</td>\n",
       "      <td>2.0</td>\n",
       "      <td>16</td>\n",
       "    </tr>\n",
       "    <tr>\n",
       "      <th>7775</th>\n",
       "      <td>-0.000214</td>\n",
       "      <td>-0.000033</td>\n",
       "      <td>0.000335</td>\n",
       "      <td>0.000095</td>\n",
       "      <td>0.000102</td>\n",
       "      <td>1722.116751</td>\n",
       "      <td>1.000000e-04</td>\n",
       "      <td>243</td>\n",
       "      <td>2.0</td>\n",
       "      <td>16</td>\n",
       "    </tr>\n",
       "  </tbody>\n",
       "</table>\n",
       "<p>7776 rows × 10 columns</p>\n",
       "</div>"
      ],
      "text/plain": [
       "             x        xp         y        yp         t            p  \\\n",
       "0     0.000000  0.000000  0.000000  0.000000  0.000000  1722.116751   \n",
       "1     0.000000  0.000000  0.000000  0.000000  0.000050  1722.116751   \n",
       "2     0.000000  0.000000  0.000000  0.000000  0.000100  1722.116751   \n",
       "3     0.000000  0.000000  0.000000  0.000050  0.000000  1722.116751   \n",
       "4     0.000000  0.000000  0.000000  0.000050  0.000050  1722.116751   \n",
       "...        ...       ...       ...       ...       ...          ...   \n",
       "7771 -0.000213 -0.000033  0.000214  0.000047  0.000052  1722.116751   \n",
       "7772 -0.000213 -0.000033  0.000214  0.000047  0.000102  1722.116751   \n",
       "7773 -0.000214 -0.000033  0.000335  0.000095  0.000002  1722.116751   \n",
       "7774 -0.000214 -0.000033  0.000335  0.000095  0.000052  1722.116751   \n",
       "7775 -0.000214 -0.000033  0.000335  0.000095  0.000102  1722.116751   \n",
       "\n",
       "                dt  particleID  step  Turn  \n",
       "0     0.000000e+00           1   1.0     1  \n",
       "1     5.000000e-05           2   1.0     1  \n",
       "2     1.000000e-04           3   1.0     1  \n",
       "3     0.000000e+00           4   1.0     1  \n",
       "4     5.000000e-05           5   1.0     1  \n",
       "...            ...         ...   ...   ...  \n",
       "7771  5.000000e-05         239   2.0    16  \n",
       "7772  1.000000e-04         240   2.0    16  \n",
       "7773  8.013319e-14         241   2.0    16  \n",
       "7774  5.000000e-05         242   2.0    16  \n",
       "7775  1.000000e-04         243   2.0    16  \n",
       "\n",
       "[7776 rows x 10 columns]"
      ]
     },
     "execution_count": 33,
     "metadata": {},
     "output_type": "execute_result"
    }
   ],
   "source": [
    "# with vary_element\n",
    "sdds = SDDS(sif,'temp-001.wq',0)\n",
    "sdds.readParticleData(vary=True)"
   ]
  },
  {
   "cell_type": "markdown",
   "metadata": {},
   "source": [
    "## Plotting commands"
   ]
  },
  {
   "cell_type": "markdown",
   "metadata": {},
   "source": [
    "For more details on the tracking simulations see the tutorial on tracking."
   ]
  },
  {
   "cell_type": "code",
   "execution_count": 34,
   "metadata": {},
   "outputs": [
    {
     "name": "stdout",
     "output_type": "stream",
     "text": [
      "Shape: (1, 6) - Number of paritcles: 1 \n",
      "Running command /home/mti/gitlab-hzb/containers/bin/pelegant.sif plaindata2sdds temp_plain_particles.dat temp_particles_input.bin -inputMode=ascii -outputMode=binary \"-separator=  \" -column=x,double,units=m -column=xp,double -column=y,double,units=m -column=yp,double -column=t,double,units=s -column=p,double,units=\"m$be$nc\" -columns=particleID,long -noRowCount\n"
     ]
    }
   ],
   "source": [
    "from pyelegantsdds.elegantrun import ElegantRun\n",
    "\n",
    "# set lattice for the rest of the tutorial\n",
    "lattice = \"FODO.lte\"\n",
    "\n",
    "# run single particle tracking\n",
    "er = ElegantRun(sif,lattice, parallel=True, use_beamline=\"FODO\", energy=1700.00)\n",
    "er.simple_single_particle_track(n_passes=100, coord=np.array([1e-5,0,0,0,0]))"
   ]
  },
  {
   "cell_type": "markdown",
   "metadata": {},
   "source": [
    "The command below can be used to make a quick plot using the `sddsplot_base` command. If the device and output argument are not provided the output will be the standard sddsplot figure, otherwise the plot is saved to file and can be used further."
   ]
  },
  {
   "cell_type": "code",
   "execution_count": 35,
   "metadata": {},
   "outputs": [
    {
     "name": "stdout",
     "output_type": "stream",
     "text": [
      "Running command /home/mti/gitlab-hzb/containers/bin/pelegant.sif sddsplot temp-001.w1 -columnNames=x,xp -graph=symb,vary=subtype,fill -device=png -output=FODO_single_particle.png\n"
     ]
    }
   ],
   "source": [
    "# quick plot\n",
    "sdds = SDDS(sif,\"temp-001.w1\",0)\n",
    "\n",
    "sdds.sddsplot_base(\n",
    "    columnNames=\"x,xp\",\n",
    "    graph=\"symb,vary=subtype,fill\",\n",
    "    device='png',\n",
    "    output=\"FODO_single_particle.png\"\n",
    ")"
   ]
  },
  {
   "cell_type": "markdown",
   "metadata": {},
   "source": [
    "![title](FODO_single_particle.png)"
   ]
  },
  {
   "cell_type": "markdown",
   "metadata": {},
   "source": [
    "More advanced sddsplot methods are available - for more details see the tracking tutorial."
   ]
  }
 ],
 "metadata": {
  "kernelspec": {
   "display_name": "Python [conda env:pyelegantenv]",
   "language": "python",
   "name": "conda-env-pyelegantenv-py"
  },
  "language_info": {
   "codemirror_mode": {
    "name": "ipython",
    "version": 3
   },
   "file_extension": ".py",
   "mimetype": "text/x-python",
   "name": "python",
   "nbconvert_exporter": "python",
   "pygments_lexer": "ipython3",
   "version": "3.9.4"
  },
  "latex_envs": {
   "LaTeX_envs_menu_present": true,
   "autoclose": false,
   "autocomplete": true,
   "bibliofile": "biblio.bib",
   "cite_by": "apalike",
   "current_citInitial": 1,
   "eqLabelWithNumbers": true,
   "eqNumInitial": 1,
   "hotkeys": {
    "equation": "Ctrl-E",
    "itemize": "Ctrl-I"
   },
   "labels_anchors": false,
   "latex_user_defs": false,
   "report_style_numbering": false,
   "user_envs_cfg": false
  },
  "toc": {
   "base_numbering": 1,
   "nav_menu": {},
   "number_sections": true,
   "sideBar": true,
   "skip_h1_title": false,
   "title_cell": "Table of Contents",
   "title_sidebar": "Contents",
   "toc_cell": false,
   "toc_position": {},
   "toc_section_display": true,
   "toc_window_display": false
  }
 },
 "nbformat": 4,
 "nbformat_minor": 4
}
