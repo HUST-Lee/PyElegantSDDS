{
 "cells": [
  {
   "cell_type": "markdown",
   "metadata": {},
   "source": [
    "# Tutorial - ElegantCommand class"
   ]
  },
  {
   "cell_type": "markdown",
   "metadata": {},
   "source": [
    "This tutorial shows basic usage of the ElegantCommand class, which is used by the ElegantRun class to construct the Elegant command file."
   ]
  },
  {
   "cell_type": "code",
   "execution_count": 2,
   "metadata": {},
   "outputs": [],
   "source": [
    "from pyelegantsdds.elegant_command import ElegantCommandFile"
   ]
  },
  {
   "cell_type": "code",
   "execution_count": 3,
   "metadata": {},
   "outputs": [],
   "source": [
    "# filetype is either 0 for binary or 1 for ascii\n",
    "ec = ElegantCommandFile('test.ele')"
   ]
  },
  {
   "cell_type": "markdown",
   "metadata": {},
   "source": [
    "## Properties"
   ]
  },
  {
   "cell_type": "code",
   "execution_count": 4,
   "metadata": {},
   "outputs": [
    {
     "data": {
      "text/plain": [
       "{'commandlist': [],\n",
       " 'filename': 'test.ele',\n",
       " 'history': {},\n",
       " '_count_iter': count(0)}"
      ]
     },
     "execution_count": 4,
     "metadata": {},
     "output_type": "execute_result"
    }
   ],
   "source": [
    "ec.__dict__"
   ]
  },
  {
   "cell_type": "markdown",
   "metadata": {},
   "source": [
    "## Methods"
   ]
  },
  {
   "cell_type": "code",
   "execution_count": 5,
   "metadata": {},
   "outputs": [
    {
     "data": {
      "text/plain": [
       "['checkCommand',\n",
       " 'addCommand',\n",
       " 'modifyCommand',\n",
       " 'repeatCommand',\n",
       " 'clearHistory',\n",
       " 'clear',\n",
       " 'remove_command',\n",
       " 'write']"
      ]
     },
     "execution_count": 5,
     "metadata": {},
     "output_type": "execute_result"
    }
   ],
   "source": [
    "from types import FunctionType\n",
    "[x for x, y in ElegantCommandFile.__dict__.items() if (type(y) == FunctionType) and not x.startswith('_')]"
   ]
  },
  {
   "cell_type": "markdown",
   "metadata": {},
   "source": [
    "## Examples"
   ]
  },
  {
   "cell_type": "code",
   "execution_count": 6,
   "metadata": {},
   "outputs": [
    {
     "data": {
      "text/plain": [
       "('test.ele', [])"
      ]
     },
     "execution_count": 6,
     "metadata": {},
     "output_type": "execute_result"
    }
   ],
   "source": [
    "ec.filename, ec.commandlist"
   ]
  },
  {
   "cell_type": "markdown",
   "metadata": {},
   "source": [
    "Adding a command."
   ]
  },
  {
   "cell_type": "code",
   "execution_count": 7,
   "metadata": {},
   "outputs": [
    {
     "data": {
      "text/plain": [
       "[{'NAME': 'run_setup',\n",
       "  'NOTE': '',\n",
       "  'lattice': 'FODO.lte',\n",
       "  'use_beamline': 'FODO',\n",
       "  'p_central_mev': 1700.0,\n",
       "  'default_order': 1,\n",
       "  'concat_order': 3,\n",
       "  'rootname': 'temp',\n",
       "  'parameters': '%s.params',\n",
       "  'semaphore_file': '%s.done',\n",
       "  'magnets': '%s.mag'}]"
      ]
     },
     "execution_count": 7,
     "metadata": {},
     "output_type": "execute_result"
    }
   ],
   "source": [
    "ec.addCommand(\n",
    "    \"run_setup\",\n",
    "    lattice='FODO.lte',\n",
    "    use_beamline='FODO',\n",
    "    p_central_mev=1700.00,\n",
    "    default_order= 1,\n",
    "    concat_order= 3,\n",
    "    rootname=\"temp\",\n",
    "    parameters=\"%s.params\",\n",
    "    semaphore_file=\"%s.done\",\n",
    "    magnets=\"%s.mag\",  # for plotting profile\n",
    ")\n",
    "\n",
    "ec.commandlist"
   ]
  },
  {
   "cell_type": "markdown",
   "metadata": {},
   "source": [
    "The modifyCommand method allows to modify command in the command list. The mode argument allows to select which command to modify based on the command name ('last','first', index as int)."
   ]
  },
  {
   "cell_type": "code",
   "execution_count": 8,
   "metadata": {},
   "outputs": [],
   "source": [
    "ec.modifyCommand('run_setup', mode='last',lattice='partrack.lte')"
   ]
  },
  {
   "cell_type": "code",
   "execution_count": 9,
   "metadata": {},
   "outputs": [
    {
     "data": {
      "text/plain": [
       "[{'NAME': 'run_setup',\n",
       "  'NOTE': '',\n",
       "  'lattice': 'partrack.lte',\n",
       "  'use_beamline': 'FODO',\n",
       "  'p_central_mev': 1700.0,\n",
       "  'default_order': 1,\n",
       "  'concat_order': 3,\n",
       "  'rootname': 'temp',\n",
       "  'parameters': '%s.params',\n",
       "  'semaphore_file': '%s.done',\n",
       "  'magnets': '%s.mag'}]"
      ]
     },
     "execution_count": 9,
     "metadata": {},
     "output_type": "execute_result"
    }
   ],
   "source": [
    "ec.commandlist"
   ]
  },
  {
   "cell_type": "markdown",
   "metadata": {},
   "source": [
    "Commands can be repeated."
   ]
  },
  {
   "cell_type": "code",
   "execution_count": 10,
   "metadata": {},
   "outputs": [],
   "source": [
    "ec.repeatCommand('run_setup',mode='last')"
   ]
  },
  {
   "cell_type": "code",
   "execution_count": 11,
   "metadata": {},
   "outputs": [
    {
     "data": {
      "text/plain": [
       "[{'NAME': 'run_setup',\n",
       "  'NOTE': '',\n",
       "  'lattice': 'partrack.lte',\n",
       "  'use_beamline': 'FODO',\n",
       "  'p_central_mev': 1700.0,\n",
       "  'default_order': 1,\n",
       "  'concat_order': 3,\n",
       "  'rootname': 'temp',\n",
       "  'parameters': '%s.params',\n",
       "  'semaphore_file': '%s.done',\n",
       "  'magnets': '%s.mag'},\n",
       " {'NAME': 'run_setup',\n",
       "  'NOTE': '',\n",
       "  'lattice': 'partrack.lte',\n",
       "  'use_beamline': 'FODO',\n",
       "  'p_central_mev': 1700.0,\n",
       "  'default_order': 1,\n",
       "  'concat_order': 3,\n",
       "  'rootname': 'temp',\n",
       "  'parameters': '%s.params',\n",
       "  'semaphore_file': '%s.done',\n",
       "  'magnets': '%s.mag'}]"
      ]
     },
     "execution_count": 11,
     "metadata": {},
     "output_type": "execute_result"
    }
   ],
   "source": [
    "ec.commandlist"
   ]
  },
  {
   "cell_type": "markdown",
   "metadata": {},
   "source": [
    "Or removed."
   ]
  },
  {
   "cell_type": "code",
   "execution_count": 12,
   "metadata": {},
   "outputs": [],
   "source": [
    "ec.remove_command('run_setup',mode='last')"
   ]
  },
  {
   "cell_type": "code",
   "execution_count": 13,
   "metadata": {},
   "outputs": [
    {
     "data": {
      "text/plain": [
       "[{'NAME': 'run_setup',\n",
       "  'NOTE': '',\n",
       "  'lattice': 'partrack.lte',\n",
       "  'use_beamline': 'FODO',\n",
       "  'p_central_mev': 1700.0,\n",
       "  'default_order': 1,\n",
       "  'concat_order': 3,\n",
       "  'rootname': 'temp',\n",
       "  'parameters': '%s.params',\n",
       "  'semaphore_file': '%s.done',\n",
       "  'magnets': '%s.mag'}]"
      ]
     },
     "execution_count": 13,
     "metadata": {},
     "output_type": "execute_result"
    }
   ],
   "source": [
    "ec.commandlist"
   ]
  },
  {
   "cell_type": "markdown",
   "metadata": {},
   "source": [
    "The write method is used to write the command file and update the history adn clear the command list."
   ]
  },
  {
   "cell_type": "code",
   "execution_count": 14,
   "metadata": {},
   "outputs": [],
   "source": [
    "ec.write()"
   ]
  },
  {
   "cell_type": "code",
   "execution_count": 15,
   "metadata": {},
   "outputs": [
    {
     "name": "stdout",
     "output_type": "stream",
     "text": [
      "&run_setup\n",
      "\tlattice             = partrack.lte,\n",
      "\tuse_beamline        = FODO,\n",
      "\tp_central_mev       = 1700.0,\n",
      "\tdefault_order       = 1,\n",
      "\tconcat_order        = 3,\n",
      "\trootname            = temp,\n",
      "\tparameters          = %s.params,\n",
      "\tsemaphore_file      = %s.done,\n",
      "\tmagnets             = %s.mag,\n",
      "&end\n",
      "\n",
      "\n"
     ]
    }
   ],
   "source": [
    "with open(ec.filename,'r') as f:\n",
    "    dat=f.read()\n",
    "    \n",
    "print(dat)"
   ]
  },
  {
   "cell_type": "code",
   "execution_count": 16,
   "metadata": {},
   "outputs": [
    {
     "data": {
      "text/plain": [
       "{0: [{'NAME': 'run_setup',\n",
       "   'NOTE': '',\n",
       "   'lattice': 'partrack.lte',\n",
       "   'use_beamline': 'FODO',\n",
       "   'p_central_mev': 1700.0,\n",
       "   'default_order': 1,\n",
       "   'concat_order': 3,\n",
       "   'rootname': 'temp',\n",
       "   'parameters': '%s.params',\n",
       "   'semaphore_file': '%s.done',\n",
       "   'magnets': '%s.mag'}],\n",
       " 1: [{'NAME': 'run_setup',\n",
       "   'NOTE': '',\n",
       "   'lattice': 'partrack.lte',\n",
       "   'use_beamline': 'FODO',\n",
       "   'p_central_mev': 1700.0,\n",
       "   'default_order': 1,\n",
       "   'concat_order': 3,\n",
       "   'rootname': 'temp',\n",
       "   'parameters': '%s.params',\n",
       "   'semaphore_file': '%s.done',\n",
       "   'magnets': '%s.mag'}]}"
      ]
     },
     "execution_count": 16,
     "metadata": {},
     "output_type": "execute_result"
    }
   ],
   "source": [
    "ec.history"
   ]
  },
  {
   "cell_type": "code",
   "execution_count": 17,
   "metadata": {},
   "outputs": [
    {
     "data": {
      "text/plain": [
       "[]"
      ]
     },
     "execution_count": 17,
     "metadata": {},
     "output_type": "execute_result"
    }
   ],
   "source": [
    "ec.commandlist"
   ]
  }
 ],
 "metadata": {
  "kernelspec": {
   "display_name": "Python [conda env:pyelegantenv]",
   "language": "python",
   "name": "conda-env-pyelegantenv-py"
  },
  "language_info": {
   "codemirror_mode": {
    "name": "ipython",
    "version": 3
   },
   "file_extension": ".py",
   "mimetype": "text/x-python",
   "name": "python",
   "nbconvert_exporter": "python",
   "pygments_lexer": "ipython3",
   "version": "3.9.4"
  },
  "latex_envs": {
   "LaTeX_envs_menu_present": true,
   "autoclose": false,
   "autocomplete": true,
   "bibliofile": "biblio.bib",
   "cite_by": "apalike",
   "current_citInitial": 1,
   "eqLabelWithNumbers": true,
   "eqNumInitial": 1,
   "hotkeys": {
    "equation": "Ctrl-E",
    "itemize": "Ctrl-I"
   },
   "labels_anchors": false,
   "latex_user_defs": false,
   "report_style_numbering": false,
   "user_envs_cfg": false
  },
  "toc": {
   "base_numbering": 1,
   "nav_menu": {},
   "number_sections": true,
   "sideBar": true,
   "skip_h1_title": false,
   "title_cell": "Table of Contents",
   "title_sidebar": "Contents",
   "toc_cell": false,
   "toc_position": {},
   "toc_section_display": true,
   "toc_window_display": false
  }
 },
 "nbformat": 4,
 "nbformat_minor": 4
}
