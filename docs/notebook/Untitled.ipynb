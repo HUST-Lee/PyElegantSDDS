{
 "cells": [
  {
   "cell_type": "code",
   "execution_count": 1,
   "id": "8073e8ab",
   "metadata": {},
   "outputs": [],
   "source": [
    "from latticeconstructor.core import LatticeBuilderLine"
   ]
  },
  {
   "cell_type": "code",
   "execution_count": 2,
   "id": "e227f048",
   "metadata": {},
   "outputs": [],
   "source": [
    "la = LatticeBuilderLine()"
   ]
  },
  {
   "cell_type": "code",
   "execution_count": 12,
   "id": "75cd579d",
   "metadata": {},
   "outputs": [],
   "source": [
    "latstr = \"\"\"\n",
    "l1a: drift, l=0.2\n",
    "l1b: drift, l=1.531675\n",
    "s1h: sext, l=0.1, k2=0.0\n",
    "s1: line=(s1h,s1h)\n",
    "l2: drift, l=0.08\n",
    "lqb: drift, l=0.24\n",
    "q1: kquadrupole, l=0.23, k1=1.786022448154, n_kicks=10\n",
    "b1: csbend, l=0.8, angle=-0.785398163397, e1=-0.445, e2=-0.445, k2=0.1375, k3=100, hgap=0.0225, fint=0.41, integration_order=4, n_kicks=20, nonlinear=1\n",
    "b2: csbend, l=0.8, angle=-0.785398163397, e1=-0.445, e2=-0.445, k2=0.1375, k3=100, hgap=0.0225, fint=0.41, integration_order=4, n_kicks=20, nonlinear=1\n",
    "q2: kquadrupole, l=0.23, k1=2.295915530046, n_kicks=10\n",
    "l3: drift, l=1.47\n",
    "l3a: drif,l=0.568095770758662\n",
    "l3b: drif,l=0.551904229241338\n",
    "! LHK is half the effective length of a kicker\n",
    "lhk: drift, l=0.175\n",
    "l34a: drif,l=0.811087\n",
    "l34b: drif,l=0.308913\n",
    "! vertical chromaticity sextupole plus vertical steering magnet\n",
    "sdh: ksextupole, l=0.1, k2=5.95873739969822, n_kicks=4\n",
    "sd: line=(sdh,sdh)\n",
    "l4: drift, l=0.08\n",
    "q3: quadrupole, l=0.23, k1=0.0\n",
    "q4: kquadrupole, l=0.23, k1=2.270174600496, n_kicks=10\n",
    "l5: drift, l=0.325\n",
    "! horizontal chromaticity sextupole plus horizontal steering magnet\n",
    "sfh: ksextupole, l=0.1, k2=-1.65546424863732, n_kicks=4\n",
    "sf: line=(sfh,sfh)\n",
    "! markers for the septum center and the center of the RF straight\n",
    "msept: marker\n",
    "mrf: marker\n",
    "! quadrant 1, less half of SF\n",
    "quadr1: line=(l1a,l1b,s1,l2,q1,lqb,b1,lqb,q2,l3a,lhk,lhk,l3b,sd,l4,q3,lqb,b2,lqb,q4,l5)\n",
    "! quadrant 2, less half of SF\n",
    "quadr2: line=(l1a,l1b,s1,l2,q1,lqb,b1,lqb,q2,l3a,lhk,lhk,l3b,sd,l4,q3,lqb,b2,lqb,q4,l5)\n",
    "! quadrant 3, less half of SF\n",
    "quadr3: line=(l1a,l1b,s1,l2,q1,lqb,b1,lqb,q2,l3,sd,l4,q3,lqb,b2,lqb,q4,l5)\n",
    "! quadrant 4, less half of SF\n",
    "quadr4: line=(l1a,l1b,s1,l2,q1,lqb,b1,lqb,q2,l34a,lhk,lhk,l34b,sd,l4,q3,lqb,b2,lqb,q4,l5)\n",
    "half: line=(quadr2,sf,-quadr2)\n",
    "ap: rcol,x_max=0.04,y_max=0.01\n",
    "par: line=(2*half,ap)\n",
    "return\n",
    "\n",
    "\"\"\"\n",
    "with open('partrack.lte','w') as f:\n",
    "    f.write(latstr.upper())"
   ]
  },
  {
   "cell_type": "code",
   "execution_count": 13,
   "id": "be34d641",
   "metadata": {},
   "outputs": [],
   "source": [
    "la.load_definitions_from_file('partrack.lte',ftype='lte')"
   ]
  },
  {
   "cell_type": "code",
   "execution_count": 14,
   "id": "5c631268",
   "metadata": {},
   "outputs": [],
   "source": [
    "la.load_lattice_from_file('partrack.lte',ftype='lte')"
   ]
  },
  {
   "cell_type": "code",
   "execution_count": 15,
   "id": "c5758593",
   "metadata": {},
   "outputs": [
    {
     "data": {
      "text/plain": [
       "{'L1A': {'name': 'L1A', 'family': 'DRIFT', 'L': 0.2},\n",
       " 'L1B': {'name': 'L1B', 'family': 'DRIFT', 'L': 1.531675},\n",
       " 'L2': {'name': 'L2', 'family': 'DRIFT', 'L': 0.08},\n",
       " 'LQB': {'name': 'LQB', 'family': 'DRIFT', 'L': 0.24},\n",
       " 'B1': {'name': 'B1',\n",
       "  'family': 'SBEND',\n",
       "  'L': 0.8,\n",
       "  'ANGLE': -0.785398163397,\n",
       "  'E1': -0.445,\n",
       "  'E2': -0.445,\n",
       "  'K2': 0.1375,\n",
       "  'K3': 100.0,\n",
       "  'HGAP': 0.0225,\n",
       "  'FINT': 0.41,\n",
       "  'INTEGRATION_ORDER': 4.0,\n",
       "  'N_KICKS': 20.0,\n",
       "  'NONLINEAR': 1.0},\n",
       " 'B2': {'name': 'B2',\n",
       "  'family': 'SBEND',\n",
       "  'L': 0.8,\n",
       "  'ANGLE': -0.785398163397,\n",
       "  'E1': -0.445,\n",
       "  'E2': -0.445,\n",
       "  'K2': 0.1375,\n",
       "  'K3': 100.0,\n",
       "  'HGAP': 0.0225,\n",
       "  'FINT': 0.41,\n",
       "  'INTEGRATION_ORDER': 4.0,\n",
       "  'N_KICKS': 20.0,\n",
       "  'NONLINEAR': 1.0},\n",
       " 'L3': {'name': 'L3', 'family': 'DRIFT', 'L': 1.47},\n",
       " 'L3A': {'name': 'L3A', 'family': 'DRIFT', 'L': 0.568095770758662},\n",
       " 'L3B': {'name': 'L3B', 'family': 'DRIFT', 'L': 0.551904229241338},\n",
       " 'LHK': {'name': 'LHK', 'family': 'DRIFT', 'L': 0.175},\n",
       " 'L34A': {'name': 'L34A', 'family': 'DRIFT', 'L': 0.811087},\n",
       " 'L34B': {'name': 'L34B', 'family': 'DRIFT', 'L': 0.308913},\n",
       " 'L4': {'name': 'L4', 'family': 'DRIFT', 'L': 0.08},\n",
       " 'Q3': {'name': 'Q3', 'family': 'QUADRUPOLE', 'L': 0.23, 'K1': 0.0},\n",
       " 'L5': {'name': 'L5', 'family': 'DRIFT', 'L': 0.325}}"
      ]
     },
     "execution_count": 15,
     "metadata": {},
     "output_type": "execute_result"
    }
   ],
   "source": [
    "la.build"
   ]
  },
  {
   "cell_type": "code",
   "execution_count": null,
   "id": "7dfa0477",
   "metadata": {},
   "outputs": [],
   "source": []
  }
 ],
 "metadata": {
  "kernelspec": {
   "display_name": "Python [conda env:latticeconstructorenv]",
   "language": "python",
   "name": "conda-env-latticeconstructorenv-py"
  },
  "language_info": {
   "codemirror_mode": {
    "name": "ipython",
    "version": 3
   },
   "file_extension": ".py",
   "mimetype": "text/x-python",
   "name": "python",
   "nbconvert_exporter": "python",
   "pygments_lexer": "ipython3",
   "version": "3.9.4"
  },
  "latex_envs": {
   "LaTeX_envs_menu_present": true,
   "autoclose": false,
   "autocomplete": true,
   "bibliofile": "biblio.bib",
   "cite_by": "apalike",
   "current_citInitial": 1,
   "eqLabelWithNumbers": true,
   "eqNumInitial": 1,
   "hotkeys": {
    "equation": "Ctrl-E",
    "itemize": "Ctrl-I"
   },
   "labels_anchors": false,
   "latex_user_defs": false,
   "report_style_numbering": false,
   "user_envs_cfg": false
  },
  "toc": {
   "base_numbering": 1,
   "nav_menu": {},
   "number_sections": true,
   "sideBar": true,
   "skip_h1_title": false,
   "title_cell": "Table of Contents",
   "title_sidebar": "Contents",
   "toc_cell": false,
   "toc_position": {},
   "toc_section_display": true,
   "toc_window_display": false
  }
 },
 "nbformat": 4,
 "nbformat_minor": 5
}
